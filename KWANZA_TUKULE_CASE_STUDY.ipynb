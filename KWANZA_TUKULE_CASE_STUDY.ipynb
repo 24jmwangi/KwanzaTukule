{
 "cells": [
  {
   "cell_type": "markdown",
   "metadata": {
    "colab_type": "text",
    "id": "view-in-github"
   },
   "source": [
    "<a href=\"https://colab.research.google.com/github/24jmwangi/KwanzaTukule/blob/main/KWANZA_TUKULE_CASE_STUDY.ipynb\" target=\"_parent\"><img src=\"https://colab.research.google.com/assets/colab-badge.svg\" alt=\"Open In Colab\"/></a>"
   ]
  },
  {
   "cell_type": "markdown",
   "metadata": {
    "id": "t2hgHPzdQw-1"
   },
   "source": []
  },
  {
   "cell_type": "markdown",
   "metadata": {
    "id": "aMVHJ28GQ4NU"
   },
   "source": [
    "This is a Data Analysis case study for Kwanza Tukule using\n",
    "\n",
    "1. Python-data cleaning analysis and transformation\n",
    "2. Github-code and CI/CD\n",
    "3. Cloud bucket- storage of final csv\n",
    "4. PowerBI - Dashboarding"
   ]
  },
  {
   "cell_type": "code",
   "execution_count": 1,
   "metadata": {
    "colab": {
     "base_uri": "https://localhost:8080/",
     "height": 243
    },
    "execution": {
     "iopub.execute_input": "2025-01-24T00:31:10.535084Z",
     "iopub.status.busy": "2025-01-24T00:31:10.534887Z",
     "iopub.status.idle": "2025-01-24T00:31:10.860201Z",
     "shell.execute_reply": "2025-01-24T00:31:10.859364Z"
    },
    "id": "V73fVzfTQ0Bk",
    "outputId": "3d2100c1-362f-4212-994a-085fcd79b53b"
   },
   "outputs": [
    {
     "ename": "FileNotFoundError",
     "evalue": "[Errno 2] No such file or directory: '/content/Screenshot_20250123_203712_Chrome.jpg'",
     "output_type": "error",
     "traceback": [
      "\u001b[0;31m---------------------------------------------------------------------------\u001b[0m",
      "\u001b[0;31mFileNotFoundError\u001b[0m                         Traceback (most recent call last)",
      "Cell \u001b[0;32mIn[1], line 8\u001b[0m\n\u001b[1;32m      5\u001b[0m image_path \u001b[38;5;241m=\u001b[39m \u001b[38;5;124m'\u001b[39m\u001b[38;5;124m/content/Screenshot_20250123_203712_Chrome.jpg\u001b[39m\u001b[38;5;124m'\u001b[39m\n\u001b[1;32m      7\u001b[0m \u001b[38;5;66;03m# Display the image\u001b[39;00m\n\u001b[0;32m----> 8\u001b[0m display(\u001b[43mImage\u001b[49m\u001b[43m(\u001b[49m\u001b[43mfilename\u001b[49m\u001b[38;5;241;43m=\u001b[39;49m\u001b[43mimage_path\u001b[49m\u001b[43m)\u001b[49m)\n",
      "File \u001b[0;32m/opt/hostedtoolcache/Python/3.8.18/x64/lib/python3.8/site-packages/IPython/core/display.py:970\u001b[0m, in \u001b[0;36mImage.__init__\u001b[0;34m(self, data, url, filename, format, embed, width, height, retina, unconfined, metadata, alt)\u001b[0m\n\u001b[1;32m    968\u001b[0m \u001b[38;5;28mself\u001b[39m\u001b[38;5;241m.\u001b[39munconfined \u001b[38;5;241m=\u001b[39m unconfined\n\u001b[1;32m    969\u001b[0m \u001b[38;5;28mself\u001b[39m\u001b[38;5;241m.\u001b[39malt \u001b[38;5;241m=\u001b[39m alt\n\u001b[0;32m--> 970\u001b[0m \u001b[38;5;28;43msuper\u001b[39;49m\u001b[43m(\u001b[49m\u001b[43mImage\u001b[49m\u001b[43m,\u001b[49m\u001b[43m \u001b[49m\u001b[38;5;28;43mself\u001b[39;49m\u001b[43m)\u001b[49m\u001b[38;5;241;43m.\u001b[39;49m\u001b[38;5;21;43m__init__\u001b[39;49m\u001b[43m(\u001b[49m\u001b[43mdata\u001b[49m\u001b[38;5;241;43m=\u001b[39;49m\u001b[43mdata\u001b[49m\u001b[43m,\u001b[49m\u001b[43m \u001b[49m\u001b[43murl\u001b[49m\u001b[38;5;241;43m=\u001b[39;49m\u001b[43murl\u001b[49m\u001b[43m,\u001b[49m\u001b[43m \u001b[49m\u001b[43mfilename\u001b[49m\u001b[38;5;241;43m=\u001b[39;49m\u001b[43mfilename\u001b[49m\u001b[43m,\u001b[49m\n\u001b[1;32m    971\u001b[0m \u001b[43m        \u001b[49m\u001b[43mmetadata\u001b[49m\u001b[38;5;241;43m=\u001b[39;49m\u001b[43mmetadata\u001b[49m\u001b[43m)\u001b[49m\n\u001b[1;32m    973\u001b[0m \u001b[38;5;28;01mif\u001b[39;00m \u001b[38;5;28mself\u001b[39m\u001b[38;5;241m.\u001b[39mwidth \u001b[38;5;129;01mis\u001b[39;00m \u001b[38;5;28;01mNone\u001b[39;00m \u001b[38;5;129;01mand\u001b[39;00m \u001b[38;5;28mself\u001b[39m\u001b[38;5;241m.\u001b[39mmetadata\u001b[38;5;241m.\u001b[39mget(\u001b[38;5;124m'\u001b[39m\u001b[38;5;124mwidth\u001b[39m\u001b[38;5;124m'\u001b[39m, {}):\n\u001b[1;32m    974\u001b[0m     \u001b[38;5;28mself\u001b[39m\u001b[38;5;241m.\u001b[39mwidth \u001b[38;5;241m=\u001b[39m metadata[\u001b[38;5;124m'\u001b[39m\u001b[38;5;124mwidth\u001b[39m\u001b[38;5;124m'\u001b[39m]\n",
      "File \u001b[0;32m/opt/hostedtoolcache/Python/3.8.18/x64/lib/python3.8/site-packages/IPython/core/display.py:327\u001b[0m, in \u001b[0;36mDisplayObject.__init__\u001b[0;34m(self, data, url, filename, metadata)\u001b[0m\n\u001b[1;32m    324\u001b[0m \u001b[38;5;28;01melif\u001b[39;00m \u001b[38;5;28mself\u001b[39m\u001b[38;5;241m.\u001b[39mmetadata \u001b[38;5;129;01mis\u001b[39;00m \u001b[38;5;28;01mNone\u001b[39;00m:\n\u001b[1;32m    325\u001b[0m     \u001b[38;5;28mself\u001b[39m\u001b[38;5;241m.\u001b[39mmetadata \u001b[38;5;241m=\u001b[39m {}\n\u001b[0;32m--> 327\u001b[0m \u001b[38;5;28;43mself\u001b[39;49m\u001b[38;5;241;43m.\u001b[39;49m\u001b[43mreload\u001b[49m\u001b[43m(\u001b[49m\u001b[43m)\u001b[49m\n\u001b[1;32m    328\u001b[0m \u001b[38;5;28mself\u001b[39m\u001b[38;5;241m.\u001b[39m_check_data()\n",
      "File \u001b[0;32m/opt/hostedtoolcache/Python/3.8.18/x64/lib/python3.8/site-packages/IPython/core/display.py:1005\u001b[0m, in \u001b[0;36mImage.reload\u001b[0;34m(self)\u001b[0m\n\u001b[1;32m   1003\u001b[0m \u001b[38;5;250m\u001b[39m\u001b[38;5;124;03m\"\"\"Reload the raw data from file or URL.\"\"\"\u001b[39;00m\n\u001b[1;32m   1004\u001b[0m \u001b[38;5;28;01mif\u001b[39;00m \u001b[38;5;28mself\u001b[39m\u001b[38;5;241m.\u001b[39membed:\n\u001b[0;32m-> 1005\u001b[0m     \u001b[38;5;28;43msuper\u001b[39;49m\u001b[43m(\u001b[49m\u001b[43mImage\u001b[49m\u001b[43m,\u001b[49m\u001b[38;5;28;43mself\u001b[39;49m\u001b[43m)\u001b[49m\u001b[38;5;241;43m.\u001b[39;49m\u001b[43mreload\u001b[49m\u001b[43m(\u001b[49m\u001b[43m)\u001b[49m\n\u001b[1;32m   1006\u001b[0m     \u001b[38;5;28;01mif\u001b[39;00m \u001b[38;5;28mself\u001b[39m\u001b[38;5;241m.\u001b[39mretina:\n\u001b[1;32m   1007\u001b[0m         \u001b[38;5;28mself\u001b[39m\u001b[38;5;241m.\u001b[39m_retina_shape()\n",
      "File \u001b[0;32m/opt/hostedtoolcache/Python/3.8.18/x64/lib/python3.8/site-packages/IPython/core/display.py:353\u001b[0m, in \u001b[0;36mDisplayObject.reload\u001b[0;34m(self)\u001b[0m\n\u001b[1;32m    351\u001b[0m \u001b[38;5;28;01mif\u001b[39;00m \u001b[38;5;28mself\u001b[39m\u001b[38;5;241m.\u001b[39mfilename \u001b[38;5;129;01mis\u001b[39;00m \u001b[38;5;129;01mnot\u001b[39;00m \u001b[38;5;28;01mNone\u001b[39;00m:\n\u001b[1;32m    352\u001b[0m     encoding \u001b[38;5;241m=\u001b[39m \u001b[38;5;28;01mNone\u001b[39;00m \u001b[38;5;28;01mif\u001b[39;00m \u001b[38;5;124m\"\u001b[39m\u001b[38;5;124mb\u001b[39m\u001b[38;5;124m\"\u001b[39m \u001b[38;5;129;01min\u001b[39;00m \u001b[38;5;28mself\u001b[39m\u001b[38;5;241m.\u001b[39m_read_flags \u001b[38;5;28;01melse\u001b[39;00m \u001b[38;5;124m\"\u001b[39m\u001b[38;5;124mutf-8\u001b[39m\u001b[38;5;124m\"\u001b[39m\n\u001b[0;32m--> 353\u001b[0m     \u001b[38;5;28;01mwith\u001b[39;00m \u001b[38;5;28;43mopen\u001b[39;49m\u001b[43m(\u001b[49m\u001b[38;5;28;43mself\u001b[39;49m\u001b[38;5;241;43m.\u001b[39;49m\u001b[43mfilename\u001b[49m\u001b[43m,\u001b[49m\u001b[43m \u001b[49m\u001b[38;5;28;43mself\u001b[39;49m\u001b[38;5;241;43m.\u001b[39;49m\u001b[43m_read_flags\u001b[49m\u001b[43m,\u001b[49m\u001b[43m \u001b[49m\u001b[43mencoding\u001b[49m\u001b[38;5;241;43m=\u001b[39;49m\u001b[43mencoding\u001b[49m\u001b[43m)\u001b[49m \u001b[38;5;28;01mas\u001b[39;00m f:\n\u001b[1;32m    354\u001b[0m         \u001b[38;5;28mself\u001b[39m\u001b[38;5;241m.\u001b[39mdata \u001b[38;5;241m=\u001b[39m f\u001b[38;5;241m.\u001b[39mread()\n\u001b[1;32m    355\u001b[0m \u001b[38;5;28;01melif\u001b[39;00m \u001b[38;5;28mself\u001b[39m\u001b[38;5;241m.\u001b[39murl \u001b[38;5;129;01mis\u001b[39;00m \u001b[38;5;129;01mnot\u001b[39;00m \u001b[38;5;28;01mNone\u001b[39;00m:\n\u001b[1;32m    356\u001b[0m     \u001b[38;5;66;03m# Deferred import\u001b[39;00m\n",
      "\u001b[0;31mFileNotFoundError\u001b[0m: [Errno 2] No such file or directory: '/content/Screenshot_20250123_203712_Chrome.jpg'"
     ]
    }
   ],
   "source": [
    "#Architecture  of the Pipeline\n",
    "from IPython.display import Image, display\n",
    "\n",
    "# Define the image path\n",
    "image_path = '/content/Screenshot_20250123_203712_Chrome.jpg'\n",
    "\n",
    "# Display the image\n",
    "display(Image(filename=image_path))"
   ]
  },
  {
   "cell_type": "markdown",
   "metadata": {
    "id": "1x9OhYt1Sf8n"
   },
   "source": []
  },
  {
   "cell_type": "code",
   "execution_count": 2,
   "metadata": {
    "colab": {
     "base_uri": "https://localhost:8080/"
    },
    "execution": {
     "iopub.execute_input": "2025-01-24T00:31:10.890076Z",
     "iopub.status.busy": "2025-01-24T00:31:10.889808Z",
     "iopub.status.idle": "2025-01-24T00:31:10.906878Z",
     "shell.execute_reply": "2025-01-24T00:31:10.906167Z"
    },
    "id": "ncBbV2tyS2S7",
    "outputId": "fd550308-2c1b-43b9-bd49-69d90f892a31"
   },
   "outputs": [
    {
     "ename": "ModuleNotFoundError",
     "evalue": "No module named 'pandas'",
     "output_type": "error",
     "traceback": [
      "\u001b[0;31m---------------------------------------------------------------------------\u001b[0m",
      "\u001b[0;31mModuleNotFoundError\u001b[0m                       Traceback (most recent call last)",
      "Cell \u001b[0;32mIn[2], line 2\u001b[0m\n\u001b[1;32m      1\u001b[0m \u001b[38;5;66;03m# data loading\u001b[39;00m\n\u001b[0;32m----> 2\u001b[0m \u001b[38;5;28;01mimport\u001b[39;00m\u001b[38;5;250m \u001b[39m\u001b[38;5;21;01mpandas\u001b[39;00m\u001b[38;5;250m \u001b[39m\u001b[38;5;28;01mas\u001b[39;00m\u001b[38;5;250m \u001b[39m\u001b[38;5;21;01mpd\u001b[39;00m\n\u001b[1;32m      3\u001b[0m \u001b[38;5;28;01mimport\u001b[39;00m\u001b[38;5;250m \u001b[39m\u001b[38;5;21;01mgspread\u001b[39;00m\n\u001b[1;32m      4\u001b[0m \u001b[38;5;28;01mfrom\u001b[39;00m\u001b[38;5;250m \u001b[39m\u001b[38;5;21;01moauth2client\u001b[39;00m\u001b[38;5;21;01m.\u001b[39;00m\u001b[38;5;21;01mservice_account\u001b[39;00m\u001b[38;5;250m \u001b[39m\u001b[38;5;28;01mimport\u001b[39;00m ServiceAccountCredentials\n",
      "\u001b[0;31mModuleNotFoundError\u001b[0m: No module named 'pandas'"
     ]
    }
   ],
   "source": [
    "\n",
    "# data loading\n",
    "import pandas as pd\n",
    "import gspread\n",
    "from oauth2client.service_account import ServiceAccountCredentials\n",
    "\n",
    "# Authenticate with Google API\n",
    "scope = [\"https://spreadsheets.google.com/feeds\", \"https://www.googleapis.com/auth/drive\"]\n",
    "creds = ServiceAccountCredentials.from_json_keyfile_name('/content/kwanzatukule-448718-2d0523fe0e5b.json', scope)\n",
    "client = gspread.authorize(creds)\n",
    "\n",
    "# Open the Google Sheet\n",
    "sheet_url = \"https://docs.google.com/spreadsheets/d/1E90iFRs0fbn3cldZCQo7cGZ8XmBDYpdHuqeUEC3TGXc/edit#gid=1416790554\"\n",
    "sheet = client.open_by_url(sheet_url)\n",
    "\n",
    "# Select the worksheet\n",
    "worksheet = sheet.get_worksheet(0)  # Replace '0' with the sheet index or name if needed\n",
    "\n",
    "# Fetch all data as a DataFrame\n",
    "data = worksheet.get_all_records()\n",
    "df = pd.DataFrame(data)\n",
    "\n",
    "# Display the DataFrame\n",
    "print(df)"
   ]
  },
  {
   "cell_type": "code",
   "execution_count": 3,
   "metadata": {
    "colab": {
     "base_uri": "https://localhost:8080/",
     "height": 1000
    },
    "execution": {
     "iopub.execute_input": "2025-01-24T00:31:10.909103Z",
     "iopub.status.busy": "2025-01-24T00:31:10.908744Z",
     "iopub.status.idle": "2025-01-24T00:31:10.926604Z",
     "shell.execute_reply": "2025-01-24T00:31:10.926036Z"
    },
    "id": "mSN126godD13",
    "outputId": "634b2c40-5c52-400e-feb9-1f919ae3cc19"
   },
   "outputs": [
    {
     "name": "stdout",
     "output_type": "stream",
     "text": [
      "\n",
      "Missing Values:\n"
     ]
    },
    {
     "ename": "NameError",
     "evalue": "name 'df' is not defined",
     "output_type": "error",
     "traceback": [
      "\u001b[0;31m---------------------------------------------------------------------------\u001b[0m",
      "\u001b[0;31mNameError\u001b[0m                                 Traceback (most recent call last)",
      "Cell \u001b[0;32mIn[3], line 5\u001b[0m\n\u001b[1;32m      1\u001b[0m \u001b[38;5;66;03m# Data Cleaning and Transformation\u001b[39;00m\n\u001b[1;32m      2\u001b[0m \n\u001b[1;32m      3\u001b[0m \u001b[38;5;66;03m# Inspect for missing values\u001b[39;00m\n\u001b[1;32m      4\u001b[0m \u001b[38;5;28mprint\u001b[39m(\u001b[38;5;124m\"\u001b[39m\u001b[38;5;130;01m\\n\u001b[39;00m\u001b[38;5;124mMissing Values:\u001b[39m\u001b[38;5;124m\"\u001b[39m)\n\u001b[0;32m----> 5\u001b[0m \u001b[38;5;28mprint\u001b[39m(\u001b[43mdf\u001b[49m\u001b[38;5;241m.\u001b[39misnull()\u001b[38;5;241m.\u001b[39msum())\n\u001b[1;32m      7\u001b[0m \u001b[38;5;66;03m# Inspect for duplicates\u001b[39;00m\n\u001b[1;32m      8\u001b[0m \u001b[38;5;28mprint\u001b[39m(\u001b[38;5;124m\"\u001b[39m\u001b[38;5;130;01m\\n\u001b[39;00m\u001b[38;5;124mDuplicate Rows:\u001b[39m\u001b[38;5;124m\"\u001b[39m)\n",
      "\u001b[0;31mNameError\u001b[0m: name 'df' is not defined"
     ]
    }
   ],
   "source": [
    "# Data Cleaning and Transformation\n",
    "\n",
    "# Inspect for missing values\n",
    "print(\"\\nMissing Values:\")\n",
    "print(df.isnull().sum())\n",
    "\n",
    "# Inspect for duplicates\n",
    "print(\"\\nDuplicate Rows:\")\n",
    "duplicate_rows = df[df.duplicated()]\n",
    "print(duplicate_rows)\n",
    "\n",
    "# Inspect for inconsistent data types\n",
    "print(\"\\nData Types:\")\n",
    "print(df.dtypes)\n",
    "\n",
    "# Resolve issues (example)\n",
    "# 1. Handle Missing Values (example: fill with mean for numeric columns)\n",
    "numeric_cols = df.select_dtypes(include=['number']).columns\n",
    "for col in numeric_cols:\n",
    "    if df[col].isnull().any():\n",
    "      df[col].fillna(df[col].mean(), inplace = True)\n",
    "\n",
    "# 2. Remove Duplicate Rows (example)\n",
    "df.drop_duplicates(inplace=True)\n",
    "\n",
    "# 3. Convert data types (example)\n",
    "# If a column should be numeric but has mixed types, convert it\n",
    "# Check for columns with inconsistent types and apply appropriate conversions.\n",
    "# Example (replace 'column_name' with the actual column name):\n",
    "#if 'column_name' in df.columns:\n",
    "  # try:\n",
    "      #df['column_name'] = pd.to_numeric(df['column_name'], errors='coerce') # errors='coerce' sets invalid parsing to NaN\n",
    "  # except:\n",
    "       # print(\"Error converting 'column_name'\")\n",
    "\n",
    "# Display the updated DataFrame\n",
    "print(\"\\nDataFrame after cleaning:\")\n",
    "df"
   ]
  },
  {
   "cell_type": "code",
   "execution_count": 4,
   "metadata": {
    "colab": {
     "base_uri": "https://localhost:8080/"
    },
    "execution": {
     "iopub.execute_input": "2025-01-24T00:31:10.928874Z",
     "iopub.status.busy": "2025-01-24T00:31:10.928489Z",
     "iopub.status.idle": "2025-01-24T00:31:10.943967Z",
     "shell.execute_reply": "2025-01-24T00:31:10.943381Z"
    },
    "id": "GDeY89Tod8Zl",
    "outputId": "91d38998-596b-44af-c778-4961c54c46cd"
   },
   "outputs": [
    {
     "ename": "ModuleNotFoundError",
     "evalue": "No module named 'pandas'",
     "output_type": "error",
     "traceback": [
      "\u001b[0;31m---------------------------------------------------------------------------\u001b[0m",
      "\u001b[0;31mModuleNotFoundError\u001b[0m                       Traceback (most recent call last)",
      "Cell \u001b[0;32mIn[4], line 3\u001b[0m\n\u001b[1;32m      1\u001b[0m \u001b[38;5;66;03m# Feature Engineering: Create the following columns: “Month-Year” (e.g., August 2024) from the “DATE” column.\u001b[39;00m\n\u001b[0;32m----> 3\u001b[0m \u001b[38;5;28;01mimport\u001b[39;00m\u001b[38;5;250m \u001b[39m\u001b[38;5;21;01mpandas\u001b[39;00m\u001b[38;5;250m \u001b[39m\u001b[38;5;28;01mas\u001b[39;00m\u001b[38;5;250m \u001b[39m\u001b[38;5;21;01mpd\u001b[39;00m\n\u001b[1;32m      5\u001b[0m \u001b[38;5;66;03m# Convert 'Date' column to datetime format\u001b[39;00m\n\u001b[1;32m      6\u001b[0m df[\u001b[38;5;124m'\u001b[39m\u001b[38;5;124mDATE\u001b[39m\u001b[38;5;124m'\u001b[39m] \u001b[38;5;241m=\u001b[39m pd\u001b[38;5;241m.\u001b[39mto_datetime(df[\u001b[38;5;124m'\u001b[39m\u001b[38;5;124mDATE\u001b[39m\u001b[38;5;124m'\u001b[39m], errors\u001b[38;5;241m=\u001b[39m\u001b[38;5;124m'\u001b[39m\u001b[38;5;124mcoerce\u001b[39m\u001b[38;5;124m'\u001b[39m)\n",
      "\u001b[0;31mModuleNotFoundError\u001b[0m: No module named 'pandas'"
     ]
    }
   ],
   "source": [
    "# Feature Engineering: Create the following columns: “Month-Year” (e.g., August 2024) from the “DATE” column.\n",
    "\n",
    "import pandas as pd\n",
    "\n",
    "# Convert 'Date' column to datetime format\n",
    "df['DATE'] = pd.to_datetime(df['DATE'], errors='coerce')\n",
    "\n",
    "# Check the DataFrame to ensure conversion\n",
    "print(df.head())\n",
    "# Extract 'Month-Year' from the 'date' column\n",
    "df['Month-Year'] = df['DATE'].dt.strftime('%B %Y')\n",
    "\n",
    "# Display the updated DataFrame\n",
    "print(df[['DATE', 'Month-Year']].head())"
   ]
  },
  {
   "cell_type": "markdown",
   "metadata": {
    "id": "UGqzd4SdhKBL"
   },
   "source": [
    "# Section 2: EDA"
   ]
  },
  {
   "cell_type": "code",
   "execution_count": 5,
   "metadata": {
    "colab": {
     "base_uri": "https://localhost:8080/"
    },
    "execution": {
     "iopub.execute_input": "2025-01-24T00:31:10.946114Z",
     "iopub.status.busy": "2025-01-24T00:31:10.945734Z",
     "iopub.status.idle": "2025-01-24T00:31:10.962219Z",
     "shell.execute_reply": "2025-01-24T00:31:10.961658Z"
    },
    "id": "_b9bMXxUkZdN",
    "outputId": "2c2de70c-6dd0-4e9f-a3f6-70abd719b9ee"
   },
   "outputs": [
    {
     "ename": "NameError",
     "evalue": "name 'df' is not defined",
     "output_type": "error",
     "traceback": [
      "\u001b[0;31m---------------------------------------------------------------------------\u001b[0m",
      "\u001b[0;31mNameError\u001b[0m                                 Traceback (most recent call last)",
      "Cell \u001b[0;32mIn[5], line 4\u001b[0m\n\u001b[1;32m      1\u001b[0m \u001b[38;5;66;03m# Add a 'total value' column\u001b[39;00m\n\u001b[1;32m      2\u001b[0m \n\u001b[1;32m      3\u001b[0m \u001b[38;5;66;03m# Convert all column names to lowercase\u001b[39;00m\n\u001b[0;32m----> 4\u001b[0m df\u001b[38;5;241m.\u001b[39mcolumns \u001b[38;5;241m=\u001b[39m \u001b[43mdf\u001b[49m\u001b[38;5;241m.\u001b[39mcolumns\u001b[38;5;241m.\u001b[39mstr\u001b[38;5;241m.\u001b[39mlower()\n\u001b[1;32m      6\u001b[0m \u001b[38;5;66;03m# Check the updated column names\u001b[39;00m\n\u001b[1;32m      8\u001b[0m df[\u001b[38;5;124m'\u001b[39m\u001b[38;5;124mtotal_value\u001b[39m\u001b[38;5;124m'\u001b[39m] \u001b[38;5;241m=\u001b[39m df[\u001b[38;5;124m'\u001b[39m\u001b[38;5;124mquantity\u001b[39m\u001b[38;5;124m'\u001b[39m] \u001b[38;5;241m*\u001b[39m df[\u001b[38;5;124m'\u001b[39m\u001b[38;5;124munit price\u001b[39m\u001b[38;5;124m'\u001b[39m]\n",
      "\u001b[0;31mNameError\u001b[0m: name 'df' is not defined"
     ]
    }
   ],
   "source": [
    "# Add a 'total value' column\n",
    "\n",
    "# Convert all column names to lowercase\n",
    "df.columns = df.columns.str.lower()\n",
    "\n",
    "# Check the updated column names\n",
    "\n",
    "df['total_value'] = df['quantity'] * df['unit price']\n",
    "\n",
    "# Display the updated DataFrame\n",
    "df.head()\n",
    "\n",
    "print(df.dtypes)\n",
    "df['quantity'] = pd.to_numeric(df['quantity'], errors='coerce')\n",
    "df['unit price'] = pd.to_numeric(df['unit price'], errors='coerce')\n",
    "\n",
    "# Recalculate 'total_value' after conversion\n",
    "df['total_value'] = df['quantity'] * df['unit price']"
   ]
  },
  {
   "cell_type": "code",
   "execution_count": 6,
   "metadata": {
    "colab": {
     "base_uri": "https://localhost:8080/"
    },
    "execution": {
     "iopub.execute_input": "2025-01-24T00:31:10.964458Z",
     "iopub.status.busy": "2025-01-24T00:31:10.964046Z",
     "iopub.status.idle": "2025-01-24T00:31:10.978087Z",
     "shell.execute_reply": "2025-01-24T00:31:10.977563Z"
    },
    "id": "0actfZzUlCyK",
    "outputId": "54a0cec9-6f1b-40b7-9624-a16c81f12f30"
   },
   "outputs": [
    {
     "ename": "NameError",
     "evalue": "name 'df' is not defined",
     "output_type": "error",
     "traceback": [
      "\u001b[0;31m---------------------------------------------------------------------------\u001b[0m",
      "\u001b[0;31mNameError\u001b[0m                                 Traceback (most recent call last)",
      "Cell \u001b[0;32mIn[6], line 2\u001b[0m\n\u001b[1;32m      1\u001b[0m \u001b[38;5;66;03m# Group by Anonymized Category\u001b[39;00m\n\u001b[0;32m----> 2\u001b[0m category_summary \u001b[38;5;241m=\u001b[39m \u001b[43mdf\u001b[49m\u001b[38;5;241m.\u001b[39mgroupby(\u001b[38;5;124m'\u001b[39m\u001b[38;5;124manonymized category\u001b[39m\u001b[38;5;124m'\u001b[39m)\u001b[38;5;241m.\u001b[39magg({\n\u001b[1;32m      3\u001b[0m     \u001b[38;5;124m'\u001b[39m\u001b[38;5;124mquantity\u001b[39m\u001b[38;5;124m'\u001b[39m: \u001b[38;5;124m'\u001b[39m\u001b[38;5;124msum\u001b[39m\u001b[38;5;124m'\u001b[39m,\n\u001b[1;32m      4\u001b[0m     \u001b[38;5;124m'\u001b[39m\u001b[38;5;124mtotal_value\u001b[39m\u001b[38;5;124m'\u001b[39m: \u001b[38;5;124m'\u001b[39m\u001b[38;5;124msum\u001b[39m\u001b[38;5;124m'\u001b[39m\n\u001b[1;32m      5\u001b[0m })\u001b[38;5;241m.\u001b[39mreset_index()\n\u001b[1;32m      7\u001b[0m \u001b[38;5;66;03m# Display the summary\u001b[39;00m\n\u001b[1;32m      8\u001b[0m \u001b[38;5;28mprint\u001b[39m(category_summary)\n",
      "\u001b[0;31mNameError\u001b[0m: name 'df' is not defined"
     ]
    }
   ],
   "source": [
    "# Group by Anonymized Category\n",
    "category_summary = df.groupby('anonymized category').agg({\n",
    "    'quantity': 'sum',\n",
    "    'total_value': 'sum'\n",
    "}).reset_index()\n",
    "\n",
    "# Display the summary\n",
    "print(category_summary)"
   ]
  },
  {
   "cell_type": "code",
   "execution_count": 7,
   "metadata": {
    "colab": {
     "base_uri": "https://localhost:8080/"
    },
    "execution": {
     "iopub.execute_input": "2025-01-24T00:31:10.980035Z",
     "iopub.status.busy": "2025-01-24T00:31:10.979849Z",
     "iopub.status.idle": "2025-01-24T00:31:10.994301Z",
     "shell.execute_reply": "2025-01-24T00:31:10.993755Z"
    },
    "id": "ZYWP89VCmNNG",
    "outputId": "41411ba5-e754-45a7-b581-795baf331300"
   },
   "outputs": [
    {
     "ename": "NameError",
     "evalue": "name 'df' is not defined",
     "output_type": "error",
     "traceback": [
      "\u001b[0;31m---------------------------------------------------------------------------\u001b[0m",
      "\u001b[0;31mNameError\u001b[0m                                 Traceback (most recent call last)",
      "Cell \u001b[0;32mIn[7], line 2\u001b[0m\n\u001b[1;32m      1\u001b[0m \u001b[38;5;66;03m# Group by Anonymized Business\u001b[39;00m\n\u001b[0;32m----> 2\u001b[0m business_summary \u001b[38;5;241m=\u001b[39m \u001b[43mdf\u001b[49m\u001b[38;5;241m.\u001b[39mgroupby(\u001b[38;5;124m'\u001b[39m\u001b[38;5;124manonymized business\u001b[39m\u001b[38;5;124m'\u001b[39m)\u001b[38;5;241m.\u001b[39magg({\n\u001b[1;32m      3\u001b[0m     \u001b[38;5;124m'\u001b[39m\u001b[38;5;124mquantity\u001b[39m\u001b[38;5;124m'\u001b[39m: \u001b[38;5;124m'\u001b[39m\u001b[38;5;124msum\u001b[39m\u001b[38;5;124m'\u001b[39m,\n\u001b[1;32m      4\u001b[0m     \u001b[38;5;124m'\u001b[39m\u001b[38;5;124mtotal_value\u001b[39m\u001b[38;5;124m'\u001b[39m: \u001b[38;5;124m'\u001b[39m\u001b[38;5;124msum\u001b[39m\u001b[38;5;124m'\u001b[39m\n\u001b[1;32m      5\u001b[0m })\u001b[38;5;241m.\u001b[39mreset_index()\n\u001b[1;32m      7\u001b[0m \u001b[38;5;66;03m# Display the summary\u001b[39;00m\n\u001b[1;32m      8\u001b[0m \u001b[38;5;28mprint\u001b[39m(business_summary)\n",
      "\u001b[0;31mNameError\u001b[0m: name 'df' is not defined"
     ]
    }
   ],
   "source": [
    "# Group by Anonymized Business\n",
    "business_summary = df.groupby('anonymized business').agg({\n",
    "    'quantity': 'sum',\n",
    "    'total_value': 'sum'\n",
    "}).reset_index()\n",
    "\n",
    "# Display the summary\n",
    "print(business_summary)"
   ]
  },
  {
   "cell_type": "code",
   "execution_count": 8,
   "metadata": {
    "colab": {
     "base_uri": "https://localhost:8080/",
     "height": 199
    },
    "execution": {
     "iopub.execute_input": "2025-01-24T00:31:10.996520Z",
     "iopub.status.busy": "2025-01-24T00:31:10.996042Z",
     "iopub.status.idle": "2025-01-24T00:31:11.012395Z",
     "shell.execute_reply": "2025-01-24T00:31:11.011753Z"
    },
    "id": "To0V9Qi5mSwJ",
    "outputId": "c4728610-37d2-4c09-818a-ad75a5e83fda"
   },
   "outputs": [
    {
     "ename": "ModuleNotFoundError",
     "evalue": "No module named 'matplotlib'",
     "output_type": "error",
     "traceback": [
      "\u001b[0;31m---------------------------------------------------------------------------\u001b[0m",
      "\u001b[0;31mModuleNotFoundError\u001b[0m                       Traceback (most recent call last)",
      "Cell \u001b[0;32mIn[8], line 1\u001b[0m\n\u001b[0;32m----> 1\u001b[0m \u001b[38;5;28;01mimport\u001b[39;00m\u001b[38;5;250m \u001b[39m\u001b[38;5;21;01mmatplotlib\u001b[39;00m\u001b[38;5;21;01m.\u001b[39;00m\u001b[38;5;21;01mpyplot\u001b[39;00m\u001b[38;5;250m \u001b[39m\u001b[38;5;28;01mas\u001b[39;00m\u001b[38;5;250m \u001b[39m\u001b[38;5;21;01mplt\u001b[39;00m\n\u001b[1;32m      3\u001b[0m \u001b[38;5;66;03m# Plot total quantity and value for categories\u001b[39;00m\n\u001b[1;32m      4\u001b[0m plt\u001b[38;5;241m.\u001b[39mfigure(figsize\u001b[38;5;241m=\u001b[39m(\u001b[38;5;241m12\u001b[39m, \u001b[38;5;241m6\u001b[39m))\n",
      "\u001b[0;31mModuleNotFoundError\u001b[0m: No module named 'matplotlib'"
     ]
    }
   ],
   "source": [
    "import matplotlib.pyplot as plt\n",
    "\n",
    "# Plot total quantity and value for categories\n",
    "plt.figure(figsize=(12, 6))\n",
    "plt.bar(category_summary['anonymized category'], category_summary['total_value'], color='skyblue', label='Total Value')\n",
    "plt.bar(category_summary['anonymized category'], category_summary['quantity'], color='orange', label='Total Quantity')\n",
    "plt.title('Total Quantity and Value by Anonymized Category')\n",
    "plt.xlabel('Anonymized Category')\n",
    "plt.ylabel('Total')\n",
    "plt.legend()\n",
    "plt.xticks(rotation=45)\n",
    "plt.show()"
   ]
  },
  {
   "cell_type": "code",
   "execution_count": 9,
   "metadata": {
    "colab": {
     "base_uri": "https://localhost:8080/",
     "height": 198
    },
    "execution": {
     "iopub.execute_input": "2025-01-24T00:31:11.014659Z",
     "iopub.status.busy": "2025-01-24T00:31:11.014148Z",
     "iopub.status.idle": "2025-01-24T00:31:11.031046Z",
     "shell.execute_reply": "2025-01-24T00:31:11.030361Z"
    },
    "id": "gvPnSJzMmgcW",
    "outputId": "51aba99f-c365-460f-cf69-400d2f17d7f9"
   },
   "outputs": [
    {
     "ename": "NameError",
     "evalue": "name 'plt' is not defined",
     "output_type": "error",
     "traceback": [
      "\u001b[0;31m---------------------------------------------------------------------------\u001b[0m",
      "\u001b[0;31mNameError\u001b[0m                                 Traceback (most recent call last)",
      "Cell \u001b[0;32mIn[9], line 2\u001b[0m\n\u001b[1;32m      1\u001b[0m \u001b[38;5;66;03m# Plot total quantity and value for businesses\u001b[39;00m\n\u001b[0;32m----> 2\u001b[0m \u001b[43mplt\u001b[49m\u001b[38;5;241m.\u001b[39mfigure(figsize\u001b[38;5;241m=\u001b[39m(\u001b[38;5;241m12\u001b[39m, \u001b[38;5;241m6\u001b[39m))\n\u001b[1;32m      3\u001b[0m plt\u001b[38;5;241m.\u001b[39mbar(business_summary[\u001b[38;5;124m'\u001b[39m\u001b[38;5;124manonymized business\u001b[39m\u001b[38;5;124m'\u001b[39m], business_summary[\u001b[38;5;124m'\u001b[39m\u001b[38;5;124mtotal_value\u001b[39m\u001b[38;5;124m'\u001b[39m], color\u001b[38;5;241m=\u001b[39m\u001b[38;5;124m'\u001b[39m\u001b[38;5;124mskyblue\u001b[39m\u001b[38;5;124m'\u001b[39m, label\u001b[38;5;241m=\u001b[39m\u001b[38;5;124m'\u001b[39m\u001b[38;5;124mTotal Value\u001b[39m\u001b[38;5;124m'\u001b[39m)\n\u001b[1;32m      4\u001b[0m plt\u001b[38;5;241m.\u001b[39mbar(business_summary[\u001b[38;5;124m'\u001b[39m\u001b[38;5;124manonymized business\u001b[39m\u001b[38;5;124m'\u001b[39m], business_summary[\u001b[38;5;124m'\u001b[39m\u001b[38;5;124mquantity\u001b[39m\u001b[38;5;124m'\u001b[39m], color\u001b[38;5;241m=\u001b[39m\u001b[38;5;124m'\u001b[39m\u001b[38;5;124morange\u001b[39m\u001b[38;5;124m'\u001b[39m, label\u001b[38;5;241m=\u001b[39m\u001b[38;5;124m'\u001b[39m\u001b[38;5;124mTotal Quantity\u001b[39m\u001b[38;5;124m'\u001b[39m)\n",
      "\u001b[0;31mNameError\u001b[0m: name 'plt' is not defined"
     ]
    }
   ],
   "source": [
    "# Plot total quantity and value for businesses\n",
    "plt.figure(figsize=(12, 6))\n",
    "plt.bar(business_summary['anonymized business'], business_summary['total_value'], color='skyblue', label='Total Value')\n",
    "plt.bar(business_summary['anonymized business'], business_summary['quantity'], color='orange', label='Total Quantity')\n",
    "plt.title('Total Quantity and Value by Anonymized Business')\n",
    "plt.xlabel('Anonymized Business')\n",
    "plt.ylabel('Total')\n",
    "plt.legend()\n",
    "plt.xticks(rotation=45)\n",
    "plt.show()"
   ]
  },
  {
   "cell_type": "code",
   "execution_count": 10,
   "metadata": {
    "colab": {
     "base_uri": "https://localhost:8080/"
    },
    "execution": {
     "iopub.execute_input": "2025-01-24T00:31:11.033257Z",
     "iopub.status.busy": "2025-01-24T00:31:11.033058Z",
     "iopub.status.idle": "2025-01-24T00:31:11.046554Z",
     "shell.execute_reply": "2025-01-24T00:31:11.045894Z"
    },
    "id": "8mbY6m9km_pC",
    "outputId": "4c7b12a7-614f-4bc4-f07a-1ec368674436"
   },
   "outputs": [
    {
     "ename": "ModuleNotFoundError",
     "evalue": "No module named 'tabulate'",
     "output_type": "error",
     "traceback": [
      "\u001b[0;31m---------------------------------------------------------------------------\u001b[0m",
      "\u001b[0;31mModuleNotFoundError\u001b[0m                       Traceback (most recent call last)",
      "Cell \u001b[0;32mIn[10], line 1\u001b[0m\n\u001b[0;32m----> 1\u001b[0m \u001b[38;5;28;01mfrom\u001b[39;00m\u001b[38;5;250m \u001b[39m\u001b[38;5;21;01mtabulate\u001b[39;00m\u001b[38;5;250m \u001b[39m\u001b[38;5;28;01mimport\u001b[39;00m tabulate\n\u001b[1;32m      3\u001b[0m \u001b[38;5;66;03m# Display category summary\u001b[39;00m\n\u001b[1;32m      4\u001b[0m \u001b[38;5;28mprint\u001b[39m(\u001b[38;5;124m\"\u001b[39m\u001b[38;5;124mCategory Summary:\u001b[39m\u001b[38;5;124m\"\u001b[39m)\n",
      "\u001b[0;31mModuleNotFoundError\u001b[0m: No module named 'tabulate'"
     ]
    }
   ],
   "source": [
    "from tabulate import tabulate\n",
    "\n",
    "# Display category summary\n",
    "print(\"Category Summary:\")\n",
    "print(tabulate(category_summary, headers='keys', tablefmt='pretty'))"
   ]
  },
  {
   "cell_type": "code",
   "execution_count": 11,
   "metadata": {
    "colab": {
     "base_uri": "https://localhost:8080/"
    },
    "collapsed": true,
    "execution": {
     "iopub.execute_input": "2025-01-24T00:31:11.048621Z",
     "iopub.status.busy": "2025-01-24T00:31:11.048411Z",
     "iopub.status.idle": "2025-01-24T00:31:11.063513Z",
     "shell.execute_reply": "2025-01-24T00:31:11.062920Z"
    },
    "id": "BM-V4dOznFI9",
    "outputId": "a03e0cc8-af88-484d-f97b-2ebf6359bc3c"
   },
   "outputs": [
    {
     "name": "stdout",
     "output_type": "stream",
     "text": [
      "\n",
      "Business Summary:\n"
     ]
    },
    {
     "ename": "NameError",
     "evalue": "name 'tabulate' is not defined",
     "output_type": "error",
     "traceback": [
      "\u001b[0;31m---------------------------------------------------------------------------\u001b[0m",
      "\u001b[0;31mNameError\u001b[0m                                 Traceback (most recent call last)",
      "Cell \u001b[0;32mIn[11], line 3\u001b[0m\n\u001b[1;32m      1\u001b[0m \u001b[38;5;66;03m# Display business summary\u001b[39;00m\n\u001b[1;32m      2\u001b[0m \u001b[38;5;28mprint\u001b[39m(\u001b[38;5;124m\"\u001b[39m\u001b[38;5;130;01m\\n\u001b[39;00m\u001b[38;5;124mBusiness Summary:\u001b[39m\u001b[38;5;124m\"\u001b[39m)\n\u001b[0;32m----> 3\u001b[0m \u001b[38;5;28mprint\u001b[39m(\u001b[43mtabulate\u001b[49m(business_summary, headers\u001b[38;5;241m=\u001b[39m\u001b[38;5;124m'\u001b[39m\u001b[38;5;124mkeys\u001b[39m\u001b[38;5;124m'\u001b[39m, tablefmt\u001b[38;5;241m=\u001b[39m\u001b[38;5;124m'\u001b[39m\u001b[38;5;124mpretty\u001b[39m\u001b[38;5;124m'\u001b[39m))\n",
      "\u001b[0;31mNameError\u001b[0m: name 'tabulate' is not defined"
     ]
    }
   ],
   "source": [
    "# Display business summary\n",
    "print(\"\\nBusiness Summary:\")\n",
    "print(tabulate(business_summary, headers='keys', tablefmt='pretty'))"
   ]
  },
  {
   "cell_type": "code",
   "execution_count": 12,
   "metadata": {
    "colab": {
     "base_uri": "https://localhost:8080/",
     "height": 431
    },
    "execution": {
     "iopub.execute_input": "2025-01-24T00:31:11.065954Z",
     "iopub.status.busy": "2025-01-24T00:31:11.065381Z",
     "iopub.status.idle": "2025-01-24T00:31:11.085507Z",
     "shell.execute_reply": "2025-01-24T00:31:11.084840Z"
    },
    "id": "MP6M-iYZnYh4",
    "outputId": "97d31918-8272-447c-eb3f-a74a8fc838fd"
   },
   "outputs": [
    {
     "ename": "NameError",
     "evalue": "name 'pd' is not defined",
     "output_type": "error",
     "traceback": [
      "\u001b[0;31m---------------------------------------------------------------------------\u001b[0m",
      "\u001b[0;31mNameError\u001b[0m                                 Traceback (most recent call last)",
      "Cell \u001b[0;32mIn[12], line 8\u001b[0m\n\u001b[1;32m      1\u001b[0m \u001b[38;5;66;03m#Trends Over Time\u001b[39;00m\n\u001b[1;32m      2\u001b[0m \n\u001b[1;32m      3\u001b[0m \u001b[38;5;66;03m#Step 1: Ensure Proper Date Format\u001b[39;00m\n\u001b[0;32m   (...)\u001b[0m\n\u001b[1;32m      6\u001b[0m \n\u001b[1;32m      7\u001b[0m \u001b[38;5;66;03m# Convert 'Month-Year' to datetime format if not already\u001b[39;00m\n\u001b[0;32m----> 8\u001b[0m df[\u001b[38;5;124m'\u001b[39m\u001b[38;5;124mmonth-year\u001b[39m\u001b[38;5;124m'\u001b[39m] \u001b[38;5;241m=\u001b[39m \u001b[43mpd\u001b[49m\u001b[38;5;241m.\u001b[39mto_datetime(df[\u001b[38;5;124m'\u001b[39m\u001b[38;5;124mmonth-year\u001b[39m\u001b[38;5;124m'\u001b[39m], \u001b[38;5;28mformat\u001b[39m\u001b[38;5;241m=\u001b[39m\u001b[38;5;124m'\u001b[39m\u001b[38;5;124m%\u001b[39m\u001b[38;5;124mB \u001b[39m\u001b[38;5;124m%\u001b[39m\u001b[38;5;124mY\u001b[39m\u001b[38;5;124m'\u001b[39m, errors\u001b[38;5;241m=\u001b[39m\u001b[38;5;124m'\u001b[39m\u001b[38;5;124mcoerce\u001b[39m\u001b[38;5;124m'\u001b[39m)\n\u001b[1;32m     10\u001b[0m \u001b[38;5;66;03m# Sort the DataFrame by 'Month-Year'\u001b[39;00m\n\u001b[1;32m     11\u001b[0m df \u001b[38;5;241m=\u001b[39m df\u001b[38;5;241m.\u001b[39msort_values(\u001b[38;5;124m'\u001b[39m\u001b[38;5;124mmonth-year\u001b[39m\u001b[38;5;124m'\u001b[39m)\n",
      "\u001b[0;31mNameError\u001b[0m: name 'pd' is not defined"
     ]
    }
   ],
   "source": [
    "\n",
    "\n",
    "#Trends Over Time\n",
    "\n",
    "#Step 1: Ensure Proper Date Format\n",
    "\n",
    "#Ensure that the Month-Year column is in datetime format. If it's not, convert it.\n",
    "\n",
    "# Convert 'Month-Year' to datetime format if not already\n",
    "df['month-year'] = pd.to_datetime(df['month-year'], format='%B %Y', errors='coerce')\n",
    "\n",
    "# Sort the DataFrame by 'Month-Year'\n",
    "df = df.sort_values('month-year')\n",
    "\n",
    "\n",
    "\n",
    "\n",
    "#Step 2: Group by Month-Year\n",
    "\n",
    "#Aggregate the total Value and Quantity for each Month-Year.\n",
    "\n",
    "# Group by 'month-year' and calculate total Quantity and Value\n",
    "time_summary = df.groupby('month-year').agg({\n",
    "    'quantity': 'sum',\n",
    "    'total_value': 'sum'\n",
    "}).reset_index()\n",
    "\n",
    "# Display the summarized data\n",
    "print(time_summary)\n",
    "\n",
    "\n",
    "\n",
    "\n",
    "#Step 3: Create a Time Series Plot\n",
    "\n",
    "#Use Matplotlib to visualize sales trends over time.\n",
    "\n",
    "import matplotlib.pyplot as plt\n",
    "\n",
    "# Plot the trends\n",
    "plt.figure(figsize=(14, 7))\n",
    "\n",
    "# Plot total value\n",
    "plt.plot(time_summary['month-year'], time_summary['total_value'], label='Total Value', marker='o', color='blue')\n",
    "\n",
    "# Plot total quantity\n",
    "plt.plot(time_summary['month-year'], time_summary['quantity'], label='Total Quantity', marker='o', color='orange')\n",
    "\n",
    "# Add titles and labels\n",
    "plt.title('Sales Trends Over Time', fontsize=16)\n",
    "plt.xlabel('month-year', fontsize=12)\n",
    "plt.ylabel('Total', fontsize=12)\n",
    "plt.legend()\n",
    "plt.grid(True)\n",
    "plt.xticks(rotation=45)  # Rotate x-axis labels for better readability\n",
    "\n",
    "# Show the plot\n",
    "plt.show()\n",
    "\n",
    "\n",
    "#Step 4: Analyze Seasonal Patterns\n",
    "\n",
    "#From the plot:"
   ]
  },
  {
   "cell_type": "markdown",
   "metadata": {
    "id": "CdTDgwuIroIG"
   },
   "source": [
    "Analysis of the Sales Trends Over Time Plot:\n",
    "\n",
    "1. Blue Line (Total Value):\n",
    "\n",
    "The total sales value exhibits a clear fluctuation over the months.\n",
    "\n",
    "High Points: Peaks in total value are observed in certain months (e.g., the beginning and mid-year).\n",
    "\n",
    "Low Points: A noticeable drop occurs in some months (e.g., early in the second quarter and towards the end of the year).\n",
    "\n",
    "\n",
    "\n",
    "2. Orange Line (Total Quantity):\n",
    "\n",
    "The total quantity remains consistently low throughout the year, indicating that high sales value is likely driven by high unit prices rather than the number of units sold.\n",
    "\n",
    "\n",
    "\n",
    "3. Key Observations:\n",
    "\n",
    "There is no strong correlation between the quantity sold and the total value. This suggests that some products or categories might have a significantly higher price, contributing to the total value.\n",
    "\n",
    "Seasonal trends might be influencing the sales value, with certain months performing better."
   ]
  },
  {
   "cell_type": "code",
   "execution_count": 13,
   "metadata": {
    "colab": {
     "base_uri": "https://localhost:8080/"
    },
    "execution": {
     "iopub.execute_input": "2025-01-24T00:31:11.087758Z",
     "iopub.status.busy": "2025-01-24T00:31:11.087371Z",
     "iopub.status.idle": "2025-01-24T00:31:11.104489Z",
     "shell.execute_reply": "2025-01-24T00:31:11.103814Z"
    },
    "id": "FQTp0Ls6sz_2",
    "outputId": "4fbe5f10-a3bb-47d1-da06-a1678a5d399a"
   },
   "outputs": [
    {
     "ename": "NameError",
     "evalue": "name 'df' is not defined",
     "output_type": "error",
     "traceback": [
      "\u001b[0;31m---------------------------------------------------------------------------\u001b[0m",
      "\u001b[0;31mNameError\u001b[0m                                 Traceback (most recent call last)",
      "Cell \u001b[0;32mIn[13], line 9\u001b[0m\n\u001b[1;32m      1\u001b[0m \u001b[38;5;124;03m\"\"\"\u001b[39;00m\n\u001b[1;32m      2\u001b[0m \u001b[38;5;124;03mPerformance Analysis\u001b[39;00m\n\u001b[1;32m      3\u001b[0m \u001b[38;5;124;03m#1: Group by Product\u001b[39;00m\n\u001b[0;32m   (...)\u001b[0m\n\u001b[1;32m      7\u001b[0m \u001b[38;5;124;03m# Group by 'anonymized product' and calculate total Quantity and Value\u001b[39;00m\n\u001b[1;32m      8\u001b[0m \u001b[38;5;124;03m\"\"\"\u001b[39;00m\n\u001b[0;32m----> 9\u001b[0m product_summary \u001b[38;5;241m=\u001b[39m \u001b[43mdf\u001b[49m\u001b[38;5;241m.\u001b[39mgroupby(\u001b[38;5;124m'\u001b[39m\u001b[38;5;124manonymized product\u001b[39m\u001b[38;5;124m'\u001b[39m)\u001b[38;5;241m.\u001b[39magg({\n\u001b[1;32m     10\u001b[0m     \u001b[38;5;124m'\u001b[39m\u001b[38;5;124mquantity\u001b[39m\u001b[38;5;124m'\u001b[39m: \u001b[38;5;124m'\u001b[39m\u001b[38;5;124msum\u001b[39m\u001b[38;5;124m'\u001b[39m,\n\u001b[1;32m     11\u001b[0m     \u001b[38;5;124m'\u001b[39m\u001b[38;5;124mtotal_value\u001b[39m\u001b[38;5;124m'\u001b[39m: \u001b[38;5;124m'\u001b[39m\u001b[38;5;124msum\u001b[39m\u001b[38;5;124m'\u001b[39m\n\u001b[1;32m     12\u001b[0m })\u001b[38;5;241m.\u001b[39mreset_index()\n\u001b[1;32m     14\u001b[0m \u001b[38;5;66;03m# Display the summary\u001b[39;00m\n\u001b[1;32m     15\u001b[0m \u001b[38;5;28mprint\u001b[39m(product_summary\u001b[38;5;241m.\u001b[39mhead())\n",
      "\u001b[0;31mNameError\u001b[0m: name 'df' is not defined"
     ]
    }
   ],
   "source": [
    "\"\"\"\n",
    "Performance Analysis\n",
    "#1: Group by Product\n",
    "\n",
    "#We need to group the data by the anonymized product column to calculate the total Quantity and Value for each product.\n",
    "\n",
    "# Group by 'anonymized product' and calculate total Quantity and Value\n",
    "\"\"\"\n",
    "product_summary = df.groupby('anonymized product').agg({\n",
    "    'quantity': 'sum',\n",
    "    'total_value': 'sum'\n",
    "}).reset_index()\n",
    "\n",
    "# Display the summary\n",
    "print(product_summary.head())\n",
    "\n",
    "\"\"\"\n",
    "#Step 2: Identify Top 5 Most Frequently Purchased Products\n",
    "\n",
    "Sort the product_summary DataFrame by quantity in descending order and extract the top 5.\n",
    "\"\"\"\n",
    "\n",
    "# Top 5 most frequently purchased products\n",
    "top_5_quantity = product_summary.sort_values('quantity', ascending=False).head(5)\n",
    "\n",
    "# Display the results\n",
    "print(\"Top 5 Most Frequently Purchased Products:\")\n",
    "print(top_5_quantity)\n",
    "\n",
    "\n",
    "#Step 3: Identify Top 5 Most Valuable Products\n",
    "\n",
    "#Sort the product_summary DataFrame by total_value in descending order and extract the top 5.\n",
    "\n",
    "# Top 5 most valuable products\n",
    "top_5_value = product_summary.sort_values('total_value', ascending=False).head(5)\n",
    "\n",
    "# Display the results\n",
    "print(\"Top 5 Most Valuable Products:\")\n",
    "print(top_5_value)"
   ]
  },
  {
   "cell_type": "markdown",
   "metadata": {
    "id": "DZBbKGh6t50q"
   },
   "source": [
    "# SECTION 3: ADVANCED ANALYSIS"
   ]
  },
  {
   "cell_type": "code",
   "execution_count": 14,
   "metadata": {
    "colab": {
     "base_uri": "https://localhost:8080/"
    },
    "execution": {
     "iopub.execute_input": "2025-01-24T00:31:11.106707Z",
     "iopub.status.busy": "2025-01-24T00:31:11.106326Z",
     "iopub.status.idle": "2025-01-24T00:31:11.123681Z",
     "shell.execute_reply": "2025-01-24T00:31:11.122987Z"
    },
    "id": "1QiDohXWxJkk",
    "outputId": "46f5010b-4bf4-40b5-b532-42901bd39510"
   },
   "outputs": [
    {
     "ename": "NameError",
     "evalue": "name 'df' is not defined",
     "output_type": "error",
     "traceback": [
      "\u001b[0;31m---------------------------------------------------------------------------\u001b[0m",
      "\u001b[0;31mNameError\u001b[0m                                 Traceback (most recent call last)",
      "Cell \u001b[0;32mIn[14], line 18\u001b[0m\n\u001b[1;32m     15\u001b[0m     \u001b[38;5;28;01mreturn\u001b[39;00m summary\n\u001b[1;32m     17\u001b[0m \u001b[38;5;66;03m# Call the function to generate the summary table\u001b[39;00m\n\u001b[0;32m---> 18\u001b[0m column_stats \u001b[38;5;241m=\u001b[39m column_summary(\u001b[43mdf\u001b[49m)\n\u001b[1;32m     20\u001b[0m \u001b[38;5;66;03m# Display the summary table\u001b[39;00m\n\u001b[1;32m     21\u001b[0m \u001b[38;5;28mprint\u001b[39m(tabulate(column_stats, headers\u001b[38;5;241m=\u001b[39m\u001b[38;5;124m'\u001b[39m\u001b[38;5;124mkeys\u001b[39m\u001b[38;5;124m'\u001b[39m, tablefmt\u001b[38;5;241m=\u001b[39m\u001b[38;5;124m'\u001b[39m\u001b[38;5;124mpsql\u001b[39m\u001b[38;5;124m'\u001b[39m))\n",
      "\u001b[0;31mNameError\u001b[0m: name 'df' is not defined"
     ]
    }
   ],
   "source": [
    "# prompt: Create a column summary table for stats\n",
    "\n",
    "# Assuming 'df' is your DataFrame from the previous code\n",
    "\n",
    "# Create the column summary table\n",
    "def column_summary(df):\n",
    "    summary = pd.DataFrame(index=df.columns)\n",
    "    summary['Data Type'] = df.dtypes\n",
    "    summary['Unique Values'] = df.nunique()\n",
    "    summary['Missing Values'] = df.isnull().sum()\n",
    "    summary['Mean'] = df.mean(numeric_only=True)\n",
    "    summary['Std Dev'] = df.std(numeric_only=True)\n",
    "    summary['Min'] = df.min(numeric_only=True)\n",
    "    summary['Max'] = df.max(numeric_only=True)\n",
    "    return summary\n",
    "\n",
    "# Call the function to generate the summary table\n",
    "column_stats = column_summary(df)\n",
    "\n",
    "# Display the summary table\n",
    "print(tabulate(column_stats, headers='keys', tablefmt='psql'))"
   ]
  },
  {
   "cell_type": "code",
   "execution_count": 15,
   "metadata": {
    "colab": {
     "base_uri": "https://localhost:8080/",
     "height": 488
    },
    "execution": {
     "iopub.execute_input": "2025-01-24T00:31:11.125708Z",
     "iopub.status.busy": "2025-01-24T00:31:11.125521Z",
     "iopub.status.idle": "2025-01-24T00:31:11.144432Z",
     "shell.execute_reply": "2025-01-24T00:31:11.143842Z"
    },
    "id": "pCTjsBaLyD8p",
    "outputId": "a90f2ec1-c694-414a-ddfc-f62c1feb9249"
   },
   "outputs": [
    {
     "ename": "ModuleNotFoundError",
     "evalue": "No module named 'pandas'",
     "output_type": "error",
     "traceback": [
      "\u001b[0;31m---------------------------------------------------------------------------\u001b[0m",
      "\u001b[0;31mModuleNotFoundError\u001b[0m                       Traceback (most recent call last)",
      "Cell \u001b[0;32mIn[15], line 3\u001b[0m\n\u001b[1;32m      1\u001b[0m \u001b[38;5;66;03m#Customer segmentation\u001b[39;00m\n\u001b[0;32m----> 3\u001b[0m \u001b[38;5;28;01mimport\u001b[39;00m\u001b[38;5;250m \u001b[39m\u001b[38;5;21;01mpandas\u001b[39;00m\u001b[38;5;250m \u001b[39m\u001b[38;5;28;01mas\u001b[39;00m\u001b[38;5;250m \u001b[39m\u001b[38;5;21;01mpd\u001b[39;00m\n\u001b[1;32m      4\u001b[0m \u001b[38;5;28;01mfrom\u001b[39;00m\u001b[38;5;250m \u001b[39m\u001b[38;5;21;01msklearn\u001b[39;00m\u001b[38;5;21;01m.\u001b[39;00m\u001b[38;5;21;01mpreprocessing\u001b[39;00m\u001b[38;5;250m \u001b[39m\u001b[38;5;28;01mimport\u001b[39;00m StandardScaler\n\u001b[1;32m      5\u001b[0m \u001b[38;5;28;01mfrom\u001b[39;00m\u001b[38;5;250m \u001b[39m\u001b[38;5;21;01msklearn\u001b[39;00m\u001b[38;5;21;01m.\u001b[39;00m\u001b[38;5;21;01mcluster\u001b[39;00m\u001b[38;5;250m \u001b[39m\u001b[38;5;28;01mimport\u001b[39;00m KMeans\n",
      "\u001b[0;31mModuleNotFoundError\u001b[0m: No module named 'pandas'"
     ]
    }
   ],
   "source": [
    "\n",
    "\n",
    "#Customer segmentation\n",
    "\n",
    "import pandas as pd\n",
    "from sklearn.preprocessing import StandardScaler\n",
    "from sklearn.cluster import KMeans\n",
    "import matplotlib.pyplot as plt\n",
    "\n",
    "#\n",
    "# Grouping by 'anonymized business' and aggregating total quantity, total value, and transaction frequency\n",
    "df_aggregated = df.groupby('anonymized business').agg(\n",
    "    total_quantity=('quantity', 'sum'),\n",
    "    total_value=('total_value', 'sum'),\n",
    "    transaction_frequency=('anonymized business', 'count')\n",
    ").reset_index()\n",
    "\n",
    "# Normalize the data for clustering\n",
    "features = ['total_quantity', 'total_value', 'transaction_frequency']\n",
    "scaler = StandardScaler()\n",
    "scaled_data = scaler.fit_transform(df_aggregated[features])\n",
    "\n",
    "# Apply K-Means clustering to segment businesses into 3 groups\n",
    "kmeans = KMeans(n_clusters=3, random_state=42)\n",
    "df_aggregated['Segment'] = kmeans.fit_predict(scaled_data)\n",
    "\n",
    "# Display the segmented DataFrame\n",
    "print(df_aggregated[['anonymized business', 'Segment']])\n",
    "\n",
    "# Visualizing the clusters (Total Value vs. Total Quantity)\n",
    "plt.scatter(df_aggregated['total_value'], df_aggregated['total_quantity'], c=df_aggregated['Segment'], cmap='viridis')\n",
    "plt.xlabel('Total Value Contributed')\n",
    "plt.ylabel('Total Quantity Purchased')\n",
    "plt.title('Business Segmentation Based on Purchasing Behavior')\n",
    "plt.show()"
   ]
  },
  {
   "cell_type": "markdown",
   "metadata": {
    "id": "l0NEm5BcyUu4"
   },
   "source": [
    "Interpreting the Segments:\n",
    "\n",
    "After running the clustering algorithm, businesses will be assigned to one of the three segments. Below is how we can interpret the groups:\n",
    "\n",
    "1. High Value Segment:\n",
    "\n",
    "Characteristics: Businesses with high total value, high quantity, and frequent transactions.\n",
    "\n",
    "Recommendations:\n",
    "\n",
    "Loyalty Programs: Offer loyalty programs, exclusive deals, and personalized offers to retain them.\n",
    "\n",
    "Volume Discounts: Provide volume discounts or special pricing to encourage even higher purchases.\n",
    "\n",
    "Priority Support: Offer premium customer service or dedicated account managers.\n",
    "\n",
    "\n",
    "2. Medium Value Segment:\n",
    "\n",
    "Characteristics: Businesses with moderate total value, moderate quantity, and transaction frequency.\n",
    "\n",
    "Recommendations:\n",
    "\n",
    "Cross-Selling: Focus on cross-selling or upselling opportunities to increase total value.\n",
    "\n",
    "Incentivize Repeat Purchases: Offer incentives for repeat purchases, such as discounts or rewards for frequent transactions.\n",
    "\n",
    "Targeted Marketing: Create personalized marketing campaigns based on their purchasing behavior to increase engagement.\n",
    "\n",
    "\n",
    "\n",
    "\n",
    "3. Low Value Segment:\n",
    "\n",
    "Characteristics: Businesses with low total value, low quantity, and infrequent transactions.\n",
    "\n",
    "Recommendations:\n",
    "\n",
    "Introductory Offers: Provide introductory offers or promotions to encourage more purchases.\n",
    "\n",
    "Address Barriers: Identify barriers to higher spending (e.g., product availability, pricing) and address them.\n",
    "\n",
    "Educational Content: Offer educational content or product demonstrations to increase the perceived value of your offerings."
   ]
  },
  {
   "cell_type": "code",
   "execution_count": 16,
   "metadata": {
    "colab": {
     "base_uri": "https://localhost:8080/"
    },
    "execution": {
     "iopub.execute_input": "2025-01-24T00:31:11.146833Z",
     "iopub.status.busy": "2025-01-24T00:31:11.146356Z",
     "iopub.status.idle": "2025-01-24T00:31:11.159630Z",
     "shell.execute_reply": "2025-01-24T00:31:11.158923Z"
    },
    "id": "pXx8TEnjCDQt",
    "outputId": "7f029fd6-2391-4761-ca4d-0294e4a600b6"
   },
   "outputs": [
    {
     "ename": "NameError",
     "evalue": "name 'df' is not defined",
     "output_type": "error",
     "traceback": [
      "\u001b[0;31m---------------------------------------------------------------------------\u001b[0m",
      "\u001b[0;31mNameError\u001b[0m                                 Traceback (most recent call last)",
      "Cell \u001b[0;32mIn[16], line 4\u001b[0m\n\u001b[1;32m      1\u001b[0m \u001b[38;5;66;03m# prompt: Print columns\u001b[39;00m\n\u001b[1;32m      2\u001b[0m \n\u001b[1;32m      3\u001b[0m \u001b[38;5;66;03m# Assuming you want to print the columns of the DataFrame 'df'\u001b[39;00m\n\u001b[0;32m----> 4\u001b[0m \u001b[43mdf\u001b[49m\u001b[38;5;241m.\u001b[39mcolumns\n",
      "\u001b[0;31mNameError\u001b[0m: name 'df' is not defined"
     ]
    }
   ],
   "source": [
    "# prompt: Print columns\n",
    "\n",
    "# Assuming you want to print the columns of the DataFrame 'df'\n",
    "df.columns"
   ]
  },
  {
   "cell_type": "code",
   "execution_count": 17,
   "metadata": {
    "execution": {
     "iopub.execute_input": "2025-01-24T00:31:11.162027Z",
     "iopub.status.busy": "2025-01-24T00:31:11.161633Z",
     "iopub.status.idle": "2025-01-24T00:31:11.174835Z",
     "shell.execute_reply": "2025-01-24T00:31:11.174292Z"
    },
    "id": "c5Nm23mlD0Eu"
   },
   "outputs": [
    {
     "ename": "NameError",
     "evalue": "name 'df' is not defined",
     "output_type": "error",
     "traceback": [
      "\u001b[0;31m---------------------------------------------------------------------------\u001b[0m",
      "\u001b[0;31mNameError\u001b[0m                                 Traceback (most recent call last)",
      "Cell \u001b[0;32mIn[17], line 3\u001b[0m\n\u001b[1;32m      1\u001b[0m \u001b[38;5;66;03m# prompt: Save df to a new  dataframe2\u001b[39;00m\n\u001b[0;32m----> 3\u001b[0m df2 \u001b[38;5;241m=\u001b[39m \u001b[43mdf\u001b[49m\u001b[38;5;241m.\u001b[39mcopy()\n",
      "\u001b[0;31mNameError\u001b[0m: name 'df' is not defined"
     ]
    }
   ],
   "source": [
    "# prompt: Save df to a new  dataframe2\n",
    "\n",
    "df2 = df.copy()"
   ]
  },
  {
   "cell_type": "code",
   "execution_count": 18,
   "metadata": {
    "colab": {
     "base_uri": "https://localhost:8080/"
    },
    "execution": {
     "iopub.execute_input": "2025-01-24T00:31:11.177004Z",
     "iopub.status.busy": "2025-01-24T00:31:11.176624Z",
     "iopub.status.idle": "2025-01-24T00:31:11.192117Z",
     "shell.execute_reply": "2025-01-24T00:31:11.191601Z"
    },
    "id": "indzti7dEELJ",
    "outputId": "815856bc-9429-41f1-9059-c9fe7bafa3e1"
   },
   "outputs": [
    {
     "ename": "ModuleNotFoundError",
     "evalue": "No module named 'pandas'",
     "output_type": "error",
     "traceback": [
      "\u001b[0;31m---------------------------------------------------------------------------\u001b[0m",
      "\u001b[0;31mModuleNotFoundError\u001b[0m                       Traceback (most recent call last)",
      "Cell \u001b[0;32mIn[18], line 1\u001b[0m\n\u001b[0;32m----> 1\u001b[0m \u001b[38;5;28;01mimport\u001b[39;00m\u001b[38;5;250m \u001b[39m\u001b[38;5;21;01mpandas\u001b[39;00m\u001b[38;5;250m \u001b[39m\u001b[38;5;28;01mas\u001b[39;00m\u001b[38;5;250m \u001b[39m\u001b[38;5;21;01mpd\u001b[39;00m\n\u001b[1;32m      4\u001b[0m df2[\u001b[38;5;124m'\u001b[39m\u001b[38;5;124mmonth-year\u001b[39m\u001b[38;5;124m'\u001b[39m] \u001b[38;5;241m=\u001b[39m pd\u001b[38;5;241m.\u001b[39mto_datetime(df2[\u001b[38;5;124m'\u001b[39m\u001b[38;5;124mmonth-year\u001b[39m\u001b[38;5;124m'\u001b[39m], \u001b[38;5;28mformat\u001b[39m\u001b[38;5;241m=\u001b[39m\u001b[38;5;124m'\u001b[39m\u001b[38;5;124m%\u001b[39m\u001b[38;5;124mY-\u001b[39m\u001b[38;5;124m%\u001b[39m\u001b[38;5;124mm-\u001b[39m\u001b[38;5;132;01m%d\u001b[39;00m\u001b[38;5;124m'\u001b[39m)\n\u001b[1;32m      6\u001b[0m \u001b[38;5;66;03m# Set 'month-year' as the index\u001b[39;00m\n",
      "\u001b[0;31mModuleNotFoundError\u001b[0m: No module named 'pandas'"
     ]
    }
   ],
   "source": [
    "import pandas as pd\n",
    "\n",
    "\n",
    "df2['month-year'] = pd.to_datetime(df2['month-year'], format='%Y-%m-%d')\n",
    "\n",
    "# Set 'month-year' as the index\n",
    "df2.set_index('month-year', inplace=True)\n",
    "\n",
    "# Aggregate the data by month to get the total sales\n",
    "monthly_sales = df2.groupby(pd.Grouper(freq='M'))['total_value'].sum()\n",
    "\n",
    "# Display the aggregated monthly sales\n",
    "print(monthly_sales)"
   ]
  },
  {
   "cell_type": "code",
   "execution_count": 19,
   "metadata": {
    "colab": {
     "base_uri": "https://localhost:8080/"
    },
    "execution": {
     "iopub.execute_input": "2025-01-24T00:31:11.194180Z",
     "iopub.status.busy": "2025-01-24T00:31:11.193791Z",
     "iopub.status.idle": "2025-01-24T00:31:11.210314Z",
     "shell.execute_reply": "2025-01-24T00:31:11.209750Z"
    },
    "id": "H2wggwNVEXmp",
    "outputId": "1813026c-e1d4-40ad-9930-227951654a90"
   },
   "outputs": [
    {
     "ename": "ModuleNotFoundError",
     "evalue": "No module named 'pandas'",
     "output_type": "error",
     "traceback": [
      "\u001b[0;31m---------------------------------------------------------------------------\u001b[0m",
      "\u001b[0;31mModuleNotFoundError\u001b[0m                       Traceback (most recent call last)",
      "Cell \u001b[0;32mIn[19], line 1\u001b[0m\n\u001b[0;32m----> 1\u001b[0m \u001b[38;5;28;01mimport\u001b[39;00m\u001b[38;5;250m \u001b[39m\u001b[38;5;21;01mpandas\u001b[39;00m\u001b[38;5;250m \u001b[39m\u001b[38;5;28;01mas\u001b[39;00m\u001b[38;5;250m \u001b[39m\u001b[38;5;21;01mpd\u001b[39;00m\n\u001b[1;32m      2\u001b[0m \u001b[38;5;28;01mfrom\u001b[39;00m\u001b[38;5;250m \u001b[39m\u001b[38;5;21;01mstatsmodels\u001b[39;00m\u001b[38;5;21;01m.\u001b[39;00m\u001b[38;5;21;01mtsa\u001b[39;00m\u001b[38;5;21;01m.\u001b[39;00m\u001b[38;5;21;01mholtwinters\u001b[39;00m\u001b[38;5;250m \u001b[39m\u001b[38;5;28;01mimport\u001b[39;00m ExponentialSmoothing\n\u001b[1;32m      4\u001b[0m \u001b[38;5;66;03m# Assuming df2 is already defined and contains the data\u001b[39;00m\n\u001b[1;32m      5\u001b[0m \n\u001b[1;32m      6\u001b[0m \u001b[38;5;66;03m# Convert 'month-year' to datetime and set as index\u001b[39;00m\n\u001b[0;32m   (...)\u001b[0m\n\u001b[1;32m      9\u001b[0m \n\u001b[1;32m     10\u001b[0m \u001b[38;5;66;03m# Aggregate the data by month to get the total sales\u001b[39;00m\n",
      "\u001b[0;31mModuleNotFoundError\u001b[0m: No module named 'pandas'"
     ]
    }
   ],
   "source": [
    "import pandas as pd\n",
    "from statsmodels.tsa.holtwinters import ExponentialSmoothing\n",
    "\n",
    "# Assuming df2 is already defined and contains the data\n",
    "\n",
    "# Convert 'month-year' to datetime and set as index\n",
    "#df2['month-year'] = pd.to_datetime(df2['month-year'], format='%Y-%m-%d')\n",
    "#df2.set_index('month-year', inplace=True)\n",
    "\n",
    "# Aggregate the data by month to get the total sales\n",
    "monthly_sales = df2.groupby(pd.Grouper(freq='M'))['total_value'].sum()\n",
    "\n",
    "# Fit Exponential Smoothing model (additive trend and seasonality, seasonal period of 12 months)\n",
    "hw_model = ExponentialSmoothing(monthly_sales, trend='add', seasonal='add', seasonal_periods=4)\n",
    "hw_fit = hw_model.fit()\n",
    "\n",
    "# Forecast next 3 months\n",
    "forecast = hw_fit.forecast(steps=3)\n",
    "\n",
    "# Create forecast index\n",
    "forecast_index = pd.date_range(start=monthly_sales.index[-1], periods=4, freq='M')[1:]\n",
    "\n",
    "# Create DataFrame for forecasted values\n",
    "forecast_df = pd.DataFrame(forecast, index=forecast_index, columns=['Forecasted Sales'])\n",
    "\n",
    "# Display forecast\n",
    "print(forecast_df)"
   ]
  },
  {
   "cell_type": "code",
   "execution_count": 20,
   "metadata": {
    "colab": {
     "base_uri": "https://localhost:8080/",
     "height": 584
    },
    "execution": {
     "iopub.execute_input": "2025-01-24T00:31:11.212238Z",
     "iopub.status.busy": "2025-01-24T00:31:11.212054Z",
     "iopub.status.idle": "2025-01-24T00:31:11.228826Z",
     "shell.execute_reply": "2025-01-24T00:31:11.228114Z"
    },
    "id": "f67EGA5tJQjU",
    "outputId": "017bb357-433b-4ca2-e098-df65f3f7781f"
   },
   "outputs": [
    {
     "ename": "NameError",
     "evalue": "name 'plt' is not defined",
     "output_type": "error",
     "traceback": [
      "\u001b[0;31m---------------------------------------------------------------------------\u001b[0m",
      "\u001b[0;31mNameError\u001b[0m                                 Traceback (most recent call last)",
      "Cell \u001b[0;32mIn[20], line 3\u001b[0m\n\u001b[1;32m      1\u001b[0m \u001b[38;5;66;03m# Plot the historical data and forecasted data\u001b[39;00m\n\u001b[0;32m----> 3\u001b[0m \u001b[43mplt\u001b[49m\u001b[38;5;241m.\u001b[39mfigure(figsize\u001b[38;5;241m=\u001b[39m(\u001b[38;5;241m10\u001b[39m, \u001b[38;5;241m6\u001b[39m))\n\u001b[1;32m      5\u001b[0m \u001b[38;5;66;03m# Plot historical data\u001b[39;00m\n\u001b[1;32m      6\u001b[0m plt\u001b[38;5;241m.\u001b[39mplot(monthly_sales\u001b[38;5;241m.\u001b[39mindex, monthly_sales, label\u001b[38;5;241m=\u001b[39m\u001b[38;5;124m'\u001b[39m\u001b[38;5;124mHistorical Sales\u001b[39m\u001b[38;5;124m'\u001b[39m, color\u001b[38;5;241m=\u001b[39m\u001b[38;5;124m'\u001b[39m\u001b[38;5;124mblue\u001b[39m\u001b[38;5;124m'\u001b[39m)\n",
      "\u001b[0;31mNameError\u001b[0m: name 'plt' is not defined"
     ]
    }
   ],
   "source": [
    "# Plot the historical data and forecasted data\n",
    "\n",
    "plt.figure(figsize=(10, 6))\n",
    "\n",
    "# Plot historical data\n",
    "plt.plot(monthly_sales.index, monthly_sales, label='Historical Sales', color='blue')\n",
    "\n",
    "# Plot forecasted data\n",
    "plt.plot(forecast_df.index, forecast_df['Forecasted Sales'], label='Forecasted Sales', color='red', linestyle='--')\n",
    "\n",
    "# Add labels and title\n",
    "plt.title('Sales Forecast for the Next 3 Months')\n",
    "plt.xlabel('Date')\n",
    "plt.ylabel('Sales Value')\n",
    "plt.legend()\n",
    "\n",
    "# Display the plot\n",
    "plt.grid(True)\n",
    "plt.show()"
   ]
  },
  {
   "cell_type": "code",
   "execution_count": 21,
   "metadata": {
    "colab": {
     "base_uri": "https://localhost:8080/",
     "height": 786
    },
    "execution": {
     "iopub.execute_input": "2025-01-24T00:31:11.231155Z",
     "iopub.status.busy": "2025-01-24T00:31:11.230761Z",
     "iopub.status.idle": "2025-01-24T00:31:11.254726Z",
     "shell.execute_reply": "2025-01-24T00:31:11.254014Z"
    },
    "id": "ug-Gt9l5J0sP",
    "outputId": "c2b1892c-9567-456c-d2c6-0d0d62108642"
   },
   "outputs": [
    {
     "ename": "ModuleNotFoundError",
     "evalue": "No module named 'pandas'",
     "output_type": "error",
     "traceback": [
      "\u001b[0;31m---------------------------------------------------------------------------\u001b[0m",
      "\u001b[0;31mModuleNotFoundError\u001b[0m                       Traceback (most recent call last)",
      "Cell \u001b[0;32mIn[21], line 1\u001b[0m\n\u001b[0;32m----> 1\u001b[0m \u001b[38;5;28;01mimport\u001b[39;00m\u001b[38;5;250m \u001b[39m\u001b[38;5;21;01mpandas\u001b[39;00m\u001b[38;5;250m \u001b[39m\u001b[38;5;28;01mas\u001b[39;00m\u001b[38;5;250m \u001b[39m\u001b[38;5;21;01mpd\u001b[39;00m\n\u001b[1;32m      2\u001b[0m \u001b[38;5;28;01mimport\u001b[39;00m\u001b[38;5;250m \u001b[39m\u001b[38;5;21;01mnumpy\u001b[39;00m\u001b[38;5;250m \u001b[39m\u001b[38;5;28;01mas\u001b[39;00m\u001b[38;5;250m \u001b[39m\u001b[38;5;21;01mnp\u001b[39;00m\n\u001b[1;32m      3\u001b[0m \u001b[38;5;28;01mimport\u001b[39;00m\u001b[38;5;250m \u001b[39m\u001b[38;5;21;01mmatplotlib\u001b[39;00m\u001b[38;5;21;01m.\u001b[39;00m\u001b[38;5;21;01mpyplot\u001b[39;00m\u001b[38;5;250m \u001b[39m\u001b[38;5;28;01mas\u001b[39;00m\u001b[38;5;250m \u001b[39m\u001b[38;5;21;01mplt\u001b[39;00m\n",
      "\u001b[0;31mModuleNotFoundError\u001b[0m: No module named 'pandas'"
     ]
    }
   ],
   "source": [
    "import pandas as pd\n",
    "import numpy as np\n",
    "import matplotlib.pyplot as plt\n",
    "\n",
    "# Assuming df2 is already defined and contains the data\n",
    "# Convert 'month-year' to datetime and set as index\n",
    "#df2['month-year'] = pd.to_datetime(df2['month-year'], format='%Y-%m-%d')\n",
    "#df2.set_index('month-year', inplace=True)\n",
    "\n",
    "# Calculate Z-scores for quantity and total_value columns\n",
    "df2['quantity_zscore'] = (df2['quantity'] - df2['quantity'].mean()) / df2['quantity'].std()\n",
    "df2['value_zscore'] = (df2['total_value'] - df2['total_value'].mean()) / df2['total_value'].std()\n",
    "\n",
    "# Define threshold for anomaly detection (e.g., Z-score > 3 or < -3)\n",
    "quantity_anomalies = df2[df2['quantity_zscore'].abs() > 3]\n",
    "value_anomalies = df2[df2['value_zscore'].abs() > 3]\n",
    "\n",
    "# Print detected anomalies\n",
    "print(\"Anomalies in Quantity:\")\n",
    "print(quantity_anomalies[['quantity', 'quantity_zscore']])\n",
    "\n",
    "print(\"\\nAnomalies in Total Value:\")\n",
    "print(value_anomalies[['total_value', 'value_zscore']])\n",
    "\n",
    "# Plot the data with anomalies\n",
    "plt.figure(figsize=(10, 6))\n",
    "\n",
    "# Plot Quantity with anomalies\n",
    "plt.subplot(2, 1, 1)\n",
    "plt.plot(df2.index, df2['quantity'], label='Quantity', color='blue')\n",
    "plt.scatter(quantity_anomalies.index, quantity_anomalies['quantity'], color='red', label='Anomaly', zorder=5)\n",
    "plt.title('Quantity with Anomalies')\n",
    "plt.xlabel('Date')\n",
    "plt.ylabel('Quantity')\n",
    "plt.legend()\n",
    "\n",
    "# Plot Total Value with anomalies\n",
    "plt.subplot(2, 1, 2)\n",
    "plt.plot(df2.index, df2['total_value'], label='Total Value', color='green')\n",
    "plt.scatter(value_anomalies.index, value_anomalies['total_value'], color='red', label='Anomaly', zorder=5)\n",
    "plt.title('Total Value with Anomalies')\n",
    "plt.xlabel('Date')\n",
    "plt.ylabel('Total Value')\n",
    "plt.legend()\n",
    "\n",
    "# Show the plots\n",
    "plt.tight_layout()\n",
    "plt.show()"
   ]
  },
  {
   "cell_type": "markdown",
   "metadata": {
    "id": "jhOU6lDxLSgE"
   },
   "source": [
    "EXPLANATION\n",
    "\n",
    "1. temporary promotions or discounts could cause a sudden surge in both quantity and total value. This is especially likely if the anomalies are concentrated around specific dates.\n",
    "2. Supply Chain Disruptions:\n",
    " Unexpected events like supply chain disruptions (e.g., delays, shortages) can lead to a sudden increase in order quantities to replenish stock. This could result in higher total values as well.\n",
    "3. Seasonal Fluctuations:\n",
    "If the product or service is seasonal, anomalies might correspond to peak seasons or holidays when demand is significantly higher."
   ]
  },
  {
   "cell_type": "code",
   "execution_count": 22,
   "metadata": {
    "colab": {
     "base_uri": "https://localhost:8080/",
     "height": 792
    },
    "execution": {
     "iopub.execute_input": "2025-01-24T00:31:11.256976Z",
     "iopub.status.busy": "2025-01-24T00:31:11.256653Z",
     "iopub.status.idle": "2025-01-24T00:31:11.273502Z",
     "shell.execute_reply": "2025-01-24T00:31:11.272944Z"
    },
    "id": "pbN-yX8NMJqJ",
    "outputId": "26e79e2c-f847-4062-cbcc-64c0b5b71224"
   },
   "outputs": [
    {
     "ename": "ModuleNotFoundError",
     "evalue": "No module named 'pandas'",
     "output_type": "error",
     "traceback": [
      "\u001b[0;31m---------------------------------------------------------------------------\u001b[0m",
      "\u001b[0;31mModuleNotFoundError\u001b[0m                       Traceback (most recent call last)",
      "Cell \u001b[0;32mIn[22], line 3\u001b[0m\n\u001b[1;32m      1\u001b[0m \u001b[38;5;66;03m# prompt: Correlation Analysis:Examine relationships between Quantity and Value. Provide insights into which factors drive sales performance.\u001b[39;00m\n\u001b[0;32m----> 3\u001b[0m \u001b[38;5;28;01mimport\u001b[39;00m\u001b[38;5;250m \u001b[39m\u001b[38;5;21;01mpandas\u001b[39;00m\u001b[38;5;250m \u001b[39m\u001b[38;5;28;01mas\u001b[39;00m\u001b[38;5;250m \u001b[39m\u001b[38;5;21;01mpd\u001b[39;00m\n\u001b[1;32m      4\u001b[0m \u001b[38;5;28;01mimport\u001b[39;00m\u001b[38;5;250m \u001b[39m\u001b[38;5;21;01mmatplotlib\u001b[39;00m\u001b[38;5;21;01m.\u001b[39;00m\u001b[38;5;21;01mpyplot\u001b[39;00m\u001b[38;5;250m \u001b[39m\u001b[38;5;28;01mas\u001b[39;00m\u001b[38;5;250m \u001b[39m\u001b[38;5;21;01mplt\u001b[39;00m\n\u001b[1;32m      9\u001b[0m \u001b[38;5;66;03m# Calculate the correlation between Quantity and Total Value\u001b[39;00m\n",
      "\u001b[0;31mModuleNotFoundError\u001b[0m: No module named 'pandas'"
     ]
    }
   ],
   "source": [
    "# prompt: Correlation Analysis:Examine relationships between Quantity and Value. Provide insights into which factors drive sales performance.\n",
    "\n",
    "import pandas as pd\n",
    "import matplotlib.pyplot as plt\n",
    "\n",
    "\n",
    "\n",
    "\n",
    "# Calculate the correlation between Quantity and Total Value\n",
    "correlation = df2['quantity'].corr(df2['total_value'])\n",
    "\n",
    "print(f\"Correlation between Quantity and Total Value: {correlation}\")\n",
    "\n",
    "# Scatter plot to visualize the relationship\n",
    "plt.figure(figsize=(8, 6))\n",
    "plt.scatter(df['quantity'], df['total_value'], alpha=0.5)\n",
    "plt.title('Relationship between Quantity and Total Value')\n",
    "plt.xlabel('Quantity')\n",
    "plt.ylabel('Total Value')\n",
    "plt.grid(True)\n",
    "plt.show()\n",
    "\n",
    "#Further analysis (example)\n",
    "# Group by 'anonymized category' and calculate correlation within each category\n",
    "category_correlations = df2.groupby('anonymized category')[['quantity', 'total_value']].corr()\n",
    "\n",
    "print(\"\\nCorrelation by Anonymized Category:\")\n",
    "category_correlations"
   ]
  },
  {
   "cell_type": "markdown",
   "metadata": {
    "id": "DyEWyGCPM5VE"
   },
   "source": [
    "Specific Observations:\n",
    "\n",
    " 1.There are some instances where a high Quantity does not correspond to a high Total Value, and vice versa. This indicates that the relationship is not deterministic and that other factors are at play.\n",
    " 2. There are a few outliers with very high Total Values despite relatively low Quantities. These could represent unusual events or data entry errors.\n",
    "\n",
    "Possible Explanations:\n",
    " 1. Product Pricing: Different products likely have different prices. A high Quantity of low-priced items might not result in a high Total Value compared to a lower Quantity of high-priced items.\n",
    " 2. Discounts and Promotions: Discounts or promotions could lead to a high Quantity but a lower Total Value"
   ]
  },
  {
   "cell_type": "markdown",
   "metadata": {
    "id": "r6oRqDy6NOyU"
   },
   "source": [
    "# STRATEGIC INSIGHTS"
   ]
  },
  {
   "cell_type": "code",
   "execution_count": 23,
   "metadata": {
    "colab": {
     "base_uri": "https://localhost:8080/",
     "height": 1000
    },
    "execution": {
     "iopub.execute_input": "2025-01-24T00:31:11.275772Z",
     "iopub.status.busy": "2025-01-24T00:31:11.275311Z",
     "iopub.status.idle": "2025-01-24T00:31:11.291899Z",
     "shell.execute_reply": "2025-01-24T00:31:11.291255Z"
    },
    "id": "p1dzAuULNXSc",
    "outputId": "ae78594b-6749-48d3-f684-23128a879006"
   },
   "outputs": [
    {
     "ename": "NameError",
     "evalue": "name 'df2' is not defined",
     "output_type": "error",
     "traceback": [
      "\u001b[0;31m---------------------------------------------------------------------------\u001b[0m",
      "\u001b[0;31mNameError\u001b[0m                                 Traceback (most recent call last)",
      "Cell \u001b[0;32mIn[23], line 1\u001b[0m\n\u001b[0;32m----> 1\u001b[0m category_sales \u001b[38;5;241m=\u001b[39m \u001b[43mdf2\u001b[49m\u001b[38;5;241m.\u001b[39mgroupby(\u001b[38;5;124m'\u001b[39m\u001b[38;5;124manonymized category\u001b[39m\u001b[38;5;124m'\u001b[39m)\u001b[38;5;241m.\u001b[39magg(\n\u001b[1;32m      2\u001b[0m     total_sales_value\u001b[38;5;241m=\u001b[39m(\u001b[38;5;124m'\u001b[39m\u001b[38;5;124mtotal_value\u001b[39m\u001b[38;5;124m'\u001b[39m, \u001b[38;5;124m'\u001b[39m\u001b[38;5;124msum\u001b[39m\u001b[38;5;124m'\u001b[39m),\n\u001b[1;32m      3\u001b[0m     total_quantity_sold\u001b[38;5;241m=\u001b[39m(\u001b[38;5;124m'\u001b[39m\u001b[38;5;124mquantity\u001b[39m\u001b[38;5;124m'\u001b[39m, \u001b[38;5;124m'\u001b[39m\u001b[38;5;124msum\u001b[39m\u001b[38;5;124m'\u001b[39m),\n\u001b[1;32m      4\u001b[0m     average_unit_price\u001b[38;5;241m=\u001b[39m(\u001b[38;5;124m'\u001b[39m\u001b[38;5;124munit price\u001b[39m\u001b[38;5;124m'\u001b[39m, \u001b[38;5;124m'\u001b[39m\u001b[38;5;124mmean\u001b[39m\u001b[38;5;124m'\u001b[39m)\n\u001b[1;32m      5\u001b[0m )\u001b[38;5;241m.\u001b[39mreset_index()\n\u001b[1;32m      7\u001b[0m \u001b[38;5;66;03m# Sort the categories by total sales value in descending order\u001b[39;00m\n\u001b[1;32m      8\u001b[0m category_sales_sorted \u001b[38;5;241m=\u001b[39m category_sales\u001b[38;5;241m.\u001b[39msort_values(by\u001b[38;5;241m=\u001b[39m\u001b[38;5;124m'\u001b[39m\u001b[38;5;124mtotal_sales_value\u001b[39m\u001b[38;5;124m'\u001b[39m, ascending\u001b[38;5;241m=\u001b[39m\u001b[38;5;28;01mFalse\u001b[39;00m)\n",
      "\u001b[0;31mNameError\u001b[0m: name 'df2' is not defined"
     ]
    }
   ],
   "source": [
    "\n",
    "category_sales = df2.groupby('anonymized category').agg(\n",
    "    total_sales_value=('total_value', 'sum'),\n",
    "    total_quantity_sold=('quantity', 'sum'),\n",
    "    average_unit_price=('unit price', 'mean')\n",
    ").reset_index()\n",
    "\n",
    "# Sort the categories by total sales value in descending order\n",
    "category_sales_sorted = category_sales.sort_values(by='total_sales_value', ascending=False)\n",
    "\n",
    "# Display the top categories\n",
    "print(category_sales_sorted)\n",
    "\n",
    "# Visualize the total sales value by category\n",
    "plt.figure(figsize=(10, 6))\n",
    "sns.barplot(x='total_sales_value', y='anonymized category', data=category_sales_sorted, palette='viridis')\n",
    "plt.title('Total Sales Value by Product Category')\n",
    "plt.xlabel('Total Sales Value')\n",
    "plt.ylabel('Product Category')\n",
    "plt.show()"
   ]
  },
  {
   "cell_type": "markdown",
   "metadata": {
    "id": "ZoLE_jGFOGpc"
   },
   "source": [
    "Recommendation:\n",
    "\n",
    "Given its exceptional performance, Category-75 should be prioritized for marketing campaigns. Allocating resources towards promoting products within this category can potentially lead to increased sales, revenue, and market share.\n",
    "\n",
    "Justification:\n",
    "The data clearly demonstrates the superior performance of Category-75 compared to other categories. Investing in marketing efforts for this category is likely to yield substantial returns due to its high demand and profit potential.\n",
    "\n",
    "Additional Considerations:\n",
    "Competitive Analysis: While Category-75 is currently the top performer, it's crucial to analyze the competition within this category to identify unique selling propositions and competitive advantages."
   ]
  },
  {
   "cell_type": "code",
   "execution_count": 24,
   "metadata": {
    "colab": {
     "base_uri": "https://localhost:8080/",
     "height": 1000
    },
    "execution": {
     "iopub.execute_input": "2025-01-24T00:31:11.294181Z",
     "iopub.status.busy": "2025-01-24T00:31:11.293832Z",
     "iopub.status.idle": "2025-01-24T00:31:11.312512Z",
     "shell.execute_reply": "2025-01-24T00:31:11.311849Z"
    },
    "id": "B6tO2Uc9ON3d",
    "outputId": "5962f2dd-eadb-4084-a407-517ba62139db"
   },
   "outputs": [
    {
     "ename": "NameError",
     "evalue": "name 'df' is not defined",
     "output_type": "error",
     "traceback": [
      "\u001b[0;31m---------------------------------------------------------------------------\u001b[0m",
      "\u001b[0;31mNameError\u001b[0m                                 Traceback (most recent call last)",
      "Cell \u001b[0;32mIn[24], line 1\u001b[0m\n\u001b[0;32m----> 1\u001b[0m df3 \u001b[38;5;241m=\u001b[39m \u001b[43mdf\u001b[49m\u001b[38;5;241m.\u001b[39mcopy()\n\u001b[1;32m      3\u001b[0m \u001b[38;5;28;01mimport\u001b[39;00m\u001b[38;5;250m \u001b[39m\u001b[38;5;21;01mpandas\u001b[39;00m\u001b[38;5;250m \u001b[39m\u001b[38;5;28;01mas\u001b[39;00m\u001b[38;5;250m \u001b[39m\u001b[38;5;21;01mpd\u001b[39;00m\n\u001b[1;32m      4\u001b[0m \u001b[38;5;28;01mimport\u001b[39;00m\u001b[38;5;250m \u001b[39m\u001b[38;5;21;01mmatplotlib\u001b[39;00m\u001b[38;5;21;01m.\u001b[39;00m\u001b[38;5;21;01mpyplot\u001b[39;00m\u001b[38;5;250m \u001b[39m\u001b[38;5;28;01mas\u001b[39;00m\u001b[38;5;250m \u001b[39m\u001b[38;5;21;01mplt\u001b[39;00m\n",
      "\u001b[0;31mNameError\u001b[0m: name 'df' is not defined"
     ]
    }
   ],
   "source": [
    "df3 = df.copy()\n",
    "\n",
    "import pandas as pd\n",
    "import matplotlib.pyplot as plt\n",
    "import seaborn as sns\n",
    "\n",
    "# Assuming df3 contains the data with 'anonymized business' and 'month-year' columns\n",
    "# Convert 'month-year' to datetime if not already\n",
    "# df3['month-year'] = pd.to_datetime(df3['month-year'], format='%Y-%m-%d')\n",
    "\n",
    "# Group by business and month to calculate the purchase frequency\n",
    "business_frequency = df3.groupby(['anonymized business', pd.Grouper(key='month-year', freq='M')]).size().reset_index(name='purchase_frequency')\n",
    "\n",
    "# Pivot the data to have businesses as rows and months as columns\n",
    "business_frequency_pivot = business_frequency.pivot(index='anonymized business', columns='month-year', values='purchase_frequency')\n",
    "\n",
    "# Calculate the month-to-month change in purchase frequency for each business\n",
    "business_frequency_pivot_diff = business_frequency_pivot.diff(axis=1).fillna(0)\n",
    "\n",
    "# Identify businesses with a negative trend in frequency (i.e., reduced frequency)\n",
    "reduced_frequency_businesses = business_frequency_pivot_diff[business_frequency_pivot_diff.mean(axis=1) < 0]\n",
    "\n",
    "# Display businesses with reduced frequency\n",
    "print(reduced_frequency_businesses)\n",
    "\n",
    "# Visualize the trends for businesses with reduced frequency\n",
    "reduced_frequency_businesses.plot(figsize=(12, 6))\n",
    "plt.title('Businesses with Reduced Purchase Frequency Over Time')\n",
    "plt.xlabel('Business')\n",
    "plt.ylabel('Change in Purchase Frequency')\n",
    "plt.show()"
   ]
  },
  {
   "cell_type": "markdown",
   "metadata": {
    "id": "H1lOJxi9Rhe4"
   },
   "source": [
    "Strategies to Re-engage Customers\n",
    "   1. Personalized Communication:\n",
    "   2. Tailored Offers: Send targeted promotions and discounts based on past purchase history and preferences.\n",
    "   3. Exclusive Content: Provide access to exclusive content, such as early access to new products, special offers, or behind-the-scenes information.\n",
    "   4. Personalized Recommendations: Leverage data to recommend products or services that align with the customer's interests and past purchases.\n",
    "\n",
    "   5. Loyalty Programs and Rewards:\n",
    "   6. Tiered Rewards: Offer tiered rewards based on purchase frequency or loyalty level."
   ]
  },
  {
   "cell_type": "code",
   "execution_count": 25,
   "metadata": {
    "colab": {
     "base_uri": "https://localhost:8080/",
     "height": 285
    },
    "execution": {
     "iopub.execute_input": "2025-01-24T00:31:11.314566Z",
     "iopub.status.busy": "2025-01-24T00:31:11.314351Z",
     "iopub.status.idle": "2025-01-24T00:31:11.333661Z",
     "shell.execute_reply": "2025-01-24T00:31:11.333087Z"
    },
    "id": "16rytaClSWm9",
    "outputId": "4795665c-bea3-4dbc-ae08-b39ef8d5be31"
   },
   "outputs": [
    {
     "ename": "ModuleNotFoundError",
     "evalue": "No module named 'pandas'",
     "output_type": "error",
     "traceback": [
      "\u001b[0;31m---------------------------------------------------------------------------\u001b[0m",
      "\u001b[0;31mModuleNotFoundError\u001b[0m                       Traceback (most recent call last)",
      "Cell \u001b[0;32mIn[25], line 1\u001b[0m\n\u001b[0;32m----> 1\u001b[0m \u001b[38;5;28;01mimport\u001b[39;00m\u001b[38;5;250m \u001b[39m\u001b[38;5;21;01mpandas\u001b[39;00m\u001b[38;5;250m \u001b[39m\u001b[38;5;28;01mas\u001b[39;00m\u001b[38;5;250m \u001b[39m\u001b[38;5;21;01mpd\u001b[39;00m\n\u001b[1;32m      2\u001b[0m \u001b[38;5;28;01mimport\u001b[39;00m\u001b[38;5;250m \u001b[39m\u001b[38;5;21;01mmatplotlib\u001b[39;00m\u001b[38;5;21;01m.\u001b[39;00m\u001b[38;5;21;01mpyplot\u001b[39;00m\u001b[38;5;250m \u001b[39m\u001b[38;5;28;01mas\u001b[39;00m\u001b[38;5;250m \u001b[39m\u001b[38;5;21;01mplt\u001b[39;00m\n\u001b[1;32m      3\u001b[0m \u001b[38;5;28;01mimport\u001b[39;00m\u001b[38;5;250m \u001b[39m\u001b[38;5;21;01mseaborn\u001b[39;00m\u001b[38;5;250m \u001b[39m\u001b[38;5;28;01mas\u001b[39;00m\u001b[38;5;250m \u001b[39m\u001b[38;5;21;01msns\u001b[39;00m\n",
      "\u001b[0;31mModuleNotFoundError\u001b[0m: No module named 'pandas'"
     ]
    }
   ],
   "source": [
    "import pandas as pd\n",
    "import matplotlib.pyplot as plt\n",
    "import seaborn as sns\n",
    "from statsmodels.tsa.seasonal import seasonal_decompose\n",
    "df4 = df.copy()\n",
    "# Assuming df contains the sales data with 'month-year' and 'total_value' columns\n",
    "#df2['month-year'] = pd.to_datetime(df2['month-year'], format='%Y-%m-%d')\n",
    "df4.set_index('month-year', inplace=True)\n",
    "#df4 = df.copy()\n",
    "# Aggregate sales by month\n",
    "monthly_sales = df4.groupby(pd.Grouper(freq='M'))['total_value'].sum()\n",
    "\n",
    "# Perform seasonal decomposition\n",
    "decomposition = seasonal_decompose(monthly_sales, model='multiplicative', period=6)\n",
    "\n",
    "# Plot the seasonal components\n",
    "plt.figure(figsize=(12, 8))\n",
    "plt.subplot(411)\n",
    "plt.plot(decomposition.observed, label='Observed')\n",
    "plt.title('Observed Sales')\n",
    "plt.subplot(412)\n",
    "plt.plot(decomposition.trend, label='Trend')\n",
    "plt.title('Trend')\n",
    "plt.subplot(413)\n",
    "plt.plot(decomposition.seasonal, label='Seasonal')\n",
    "plt.title('Seasonal Component')\n",
    "plt.subplot(414)\n",
    "plt.plot(decomposition.resid, label='Residual')\n",
    "plt.title('Residuals')\n",
    "plt.tight_layout()\n",
    "plt.show()\n",
    "\n",
    "# Analyzing the seasonal component to identify peak demand periods\n",
    "seasonal_peak_months = decomposition.seasonal.idxmax()\n",
    "print(\"Months with peak seasonal demand:\", seasonal_peak_months)"
   ]
  },
  {
   "cell_type": "markdown",
   "metadata": {
    "id": "JJY0kh7rT3lc"
   },
   "source": [
    "\n",
    "\n",
    "\n",
    "Operational Efficiency:improvements to inventory management or supply chain processes based on trends in product performance.\n",
    "1. Seasonal Demand Planning: Increase inventory and adjust replenishment schedules ahead of peak months.\n",
    "\n",
    "\n",
    "2. Supply Chain Flexibility: Diversify suppliers and reduce lead times for quicker responses to demand surges.\n",
    "\n",
    "\n",
    "3. Dynamic Pricing & Promotions: Use dynamic pricing and targeted promotions to balance inventory and maximize revenue.\n",
    "\n",
    "\n",
    "4. Advanced Forecasting & Inventory Management: Leverage machine learning for accurate demand forecasting and automated inventory systems.\n",
    "\n",
    "\n",
    "5. Warehouse Optimization: Ensure efficient storage and use cross-docking to speed up order fulfillment.\n",
    "\n",
    "\n",
    "6. Staffing & Resource Allocation: Hire temporary staff and allocate resources based on demand forecasts.\n",
    "\n",
    "\n",
    "7. Real-Time Monitoring: Track sales and inventory in real-time for quick adjustments and post-peak reviews."
   ]
  },
  {
   "cell_type": "markdown",
   "metadata": {
    "id": "C2IPU6TjVF9S"
   },
   "source": [
    "# CUSTOM DASHBOARD - can be tailored for specific users and needs"
   ]
  },
  {
   "cell_type": "code",
   "execution_count": 26,
   "metadata": {
    "colab": {
     "base_uri": "https://localhost:8080/",
     "height": 1000
    },
    "execution": {
     "iopub.execute_input": "2025-01-24T00:31:11.335691Z",
     "iopub.status.busy": "2025-01-24T00:31:11.335498Z",
     "iopub.status.idle": "2025-01-24T00:31:22.155168Z",
     "shell.execute_reply": "2025-01-24T00:31:22.154551Z"
    },
    "id": "hTJ_yM2xVP9z",
    "outputId": "e7de5027-5efd-4299-af88-7476e2d390e5"
   },
   "outputs": [
    {
     "name": "stdout",
     "output_type": "stream",
     "text": [
      "Collecting dash\r\n",
      "  Downloading dash-2.18.2-py3-none-any.whl.metadata (10 kB)\r\n"
     ]
    },
    {
     "name": "stdout",
     "output_type": "stream",
     "text": [
      "Collecting jupyter-dash\r\n",
      "  Downloading jupyter_dash-0.4.2-py3-none-any.whl.metadata (3.6 kB)\r\n"
     ]
    },
    {
     "name": "stdout",
     "output_type": "stream",
     "text": [
      "Collecting plotly\r\n",
      "  Downloading plotly-5.24.1-py3-none-any.whl.metadata (7.3 kB)\r\n"
     ]
    },
    {
     "name": "stdout",
     "output_type": "stream",
     "text": [
      "Collecting Flask<3.1,>=1.0.4 (from dash)\r\n",
      "  Downloading flask-3.0.3-py3-none-any.whl.metadata (3.2 kB)\r\n"
     ]
    },
    {
     "name": "stdout",
     "output_type": "stream",
     "text": [
      "Collecting Werkzeug<3.1 (from dash)\r\n",
      "  Downloading werkzeug-3.0.6-py3-none-any.whl.metadata (3.7 kB)\r\n"
     ]
    },
    {
     "name": "stdout",
     "output_type": "stream",
     "text": [
      "Collecting dash-html-components==2.0.0 (from dash)\r\n",
      "  Downloading dash_html_components-2.0.0-py3-none-any.whl.metadata (3.8 kB)\r\n",
      "Collecting dash-core-components==2.0.0 (from dash)\r\n",
      "  Downloading dash_core_components-2.0.0-py3-none-any.whl.metadata (2.9 kB)\r\n"
     ]
    },
    {
     "name": "stdout",
     "output_type": "stream",
     "text": [
      "Collecting dash-table==5.0.0 (from dash)\r\n",
      "  Downloading dash_table-5.0.0-py3-none-any.whl.metadata (2.4 kB)\r\n",
      "Requirement already satisfied: importlib-metadata in /opt/hostedtoolcache/Python/3.8.18/x64/lib/python3.8/site-packages (from dash) (8.5.0)\r\n",
      "Requirement already satisfied: typing-extensions>=4.1.1 in /opt/hostedtoolcache/Python/3.8.18/x64/lib/python3.8/site-packages (from dash) (4.12.2)\r\n",
      "Requirement already satisfied: requests in /opt/hostedtoolcache/Python/3.8.18/x64/lib/python3.8/site-packages (from dash) (2.32.3)\r\n",
      "Collecting retrying (from dash)\r\n",
      "  Downloading retrying-1.3.4-py3-none-any.whl.metadata (6.9 kB)\r\n",
      "Requirement already satisfied: nest-asyncio in /opt/hostedtoolcache/Python/3.8.18/x64/lib/python3.8/site-packages (from dash) (1.6.0)\r\n",
      "Requirement already satisfied: setuptools in /opt/hostedtoolcache/Python/3.8.18/x64/lib/python3.8/site-packages (from dash) (56.0.0)\r\n",
      "Requirement already satisfied: ipython in /opt/hostedtoolcache/Python/3.8.18/x64/lib/python3.8/site-packages (from jupyter-dash) (8.12.3)\r\n",
      "Requirement already satisfied: ipykernel in /opt/hostedtoolcache/Python/3.8.18/x64/lib/python3.8/site-packages (from jupyter-dash) (6.29.5)\r\n"
     ]
    },
    {
     "name": "stdout",
     "output_type": "stream",
     "text": [
      "Collecting ansi2html (from jupyter-dash)\r\n",
      "  Downloading ansi2html-1.9.2-py3-none-any.whl.metadata (3.7 kB)\r\n",
      "Collecting tenacity>=6.2.0 (from plotly)\r\n",
      "  Downloading tenacity-9.0.0-py3-none-any.whl.metadata (1.2 kB)\r\n",
      "Requirement already satisfied: packaging in /opt/hostedtoolcache/Python/3.8.18/x64/lib/python3.8/site-packages (from plotly) (24.2)\r\n"
     ]
    },
    {
     "name": "stdout",
     "output_type": "stream",
     "text": [
      "Requirement already satisfied: Jinja2>=3.1.2 in /opt/hostedtoolcache/Python/3.8.18/x64/lib/python3.8/site-packages (from Flask<3.1,>=1.0.4->dash) (3.1.5)\r\n",
      "Collecting itsdangerous>=2.1.2 (from Flask<3.1,>=1.0.4->dash)\r\n",
      "  Downloading itsdangerous-2.2.0-py3-none-any.whl.metadata (1.9 kB)\r\n",
      "Collecting click>=8.1.3 (from Flask<3.1,>=1.0.4->dash)\r\n"
     ]
    },
    {
     "name": "stdout",
     "output_type": "stream",
     "text": [
      "  Downloading click-8.1.8-py3-none-any.whl.metadata (2.3 kB)\r\n",
      "Collecting blinker>=1.6.2 (from Flask<3.1,>=1.0.4->dash)\r\n",
      "  Downloading blinker-1.8.2-py3-none-any.whl.metadata (1.6 kB)\r\n",
      "Requirement already satisfied: zipp>=3.20 in /opt/hostedtoolcache/Python/3.8.18/x64/lib/python3.8/site-packages (from importlib-metadata->dash) (3.20.2)\r\n",
      "Requirement already satisfied: MarkupSafe>=2.1.1 in /opt/hostedtoolcache/Python/3.8.18/x64/lib/python3.8/site-packages (from Werkzeug<3.1->dash) (2.1.5)\r\n",
      "Requirement already satisfied: comm>=0.1.1 in /opt/hostedtoolcache/Python/3.8.18/x64/lib/python3.8/site-packages (from ipykernel->jupyter-dash) (0.2.2)\r\n",
      "Requirement already satisfied: debugpy>=1.6.5 in /opt/hostedtoolcache/Python/3.8.18/x64/lib/python3.8/site-packages (from ipykernel->jupyter-dash) (1.8.12)\r\n",
      "Requirement already satisfied: jupyter-client>=6.1.12 in /opt/hostedtoolcache/Python/3.8.18/x64/lib/python3.8/site-packages (from ipykernel->jupyter-dash) (8.6.3)\r\n",
      "Requirement already satisfied: jupyter-core!=5.0.*,>=4.12 in /opt/hostedtoolcache/Python/3.8.18/x64/lib/python3.8/site-packages (from ipykernel->jupyter-dash) (5.7.2)\r\n",
      "Requirement already satisfied: matplotlib-inline>=0.1 in /opt/hostedtoolcache/Python/3.8.18/x64/lib/python3.8/site-packages (from ipykernel->jupyter-dash) (0.1.7)\r\n",
      "Requirement already satisfied: psutil in /opt/hostedtoolcache/Python/3.8.18/x64/lib/python3.8/site-packages (from ipykernel->jupyter-dash) (6.1.1)\r\n",
      "Requirement already satisfied: pyzmq>=24 in /opt/hostedtoolcache/Python/3.8.18/x64/lib/python3.8/site-packages (from ipykernel->jupyter-dash) (26.2.0)\r\n",
      "Requirement already satisfied: tornado>=6.1 in /opt/hostedtoolcache/Python/3.8.18/x64/lib/python3.8/site-packages (from ipykernel->jupyter-dash) (6.4.2)\r\n",
      "Requirement already satisfied: traitlets>=5.4.0 in /opt/hostedtoolcache/Python/3.8.18/x64/lib/python3.8/site-packages (from ipykernel->jupyter-dash) (5.14.3)\r\n"
     ]
    },
    {
     "name": "stdout",
     "output_type": "stream",
     "text": [
      "Requirement already satisfied: backcall in /opt/hostedtoolcache/Python/3.8.18/x64/lib/python3.8/site-packages (from ipython->jupyter-dash) (0.2.0)\r\n",
      "Requirement already satisfied: decorator in /opt/hostedtoolcache/Python/3.8.18/x64/lib/python3.8/site-packages (from ipython->jupyter-dash) (5.1.1)\r\n",
      "Requirement already satisfied: jedi>=0.16 in /opt/hostedtoolcache/Python/3.8.18/x64/lib/python3.8/site-packages (from ipython->jupyter-dash) (0.19.2)\r\n",
      "Requirement already satisfied: pickleshare in /opt/hostedtoolcache/Python/3.8.18/x64/lib/python3.8/site-packages (from ipython->jupyter-dash) (0.7.5)\r\n",
      "Requirement already satisfied: prompt-toolkit!=3.0.37,<3.1.0,>=3.0.30 in /opt/hostedtoolcache/Python/3.8.18/x64/lib/python3.8/site-packages (from ipython->jupyter-dash) (3.0.50)\r\n",
      "Requirement already satisfied: pygments>=2.4.0 in /opt/hostedtoolcache/Python/3.8.18/x64/lib/python3.8/site-packages (from ipython->jupyter-dash) (2.19.1)\r\n",
      "Requirement already satisfied: stack-data in /opt/hostedtoolcache/Python/3.8.18/x64/lib/python3.8/site-packages (from ipython->jupyter-dash) (0.6.3)\r\n",
      "Requirement already satisfied: pexpect>4.3 in /opt/hostedtoolcache/Python/3.8.18/x64/lib/python3.8/site-packages (from ipython->jupyter-dash) (4.9.0)\r\n",
      "Requirement already satisfied: charset-normalizer<4,>=2 in /opt/hostedtoolcache/Python/3.8.18/x64/lib/python3.8/site-packages (from requests->dash) (3.4.1)\r\n",
      "Requirement already satisfied: idna<4,>=2.5 in /opt/hostedtoolcache/Python/3.8.18/x64/lib/python3.8/site-packages (from requests->dash) (3.10)\r\n",
      "Requirement already satisfied: urllib3<3,>=1.21.1 in /opt/hostedtoolcache/Python/3.8.18/x64/lib/python3.8/site-packages (from requests->dash) (2.2.3)\r\n",
      "Requirement already satisfied: certifi>=2017.4.17 in /opt/hostedtoolcache/Python/3.8.18/x64/lib/python3.8/site-packages (from requests->dash) (2024.12.14)\r\n",
      "Requirement already satisfied: six>=1.7.0 in /opt/hostedtoolcache/Python/3.8.18/x64/lib/python3.8/site-packages (from retrying->dash) (1.17.0)\r\n",
      "Requirement already satisfied: parso<0.9.0,>=0.8.4 in /opt/hostedtoolcache/Python/3.8.18/x64/lib/python3.8/site-packages (from jedi>=0.16->ipython->jupyter-dash) (0.8.4)\r\n",
      "Requirement already satisfied: python-dateutil>=2.8.2 in /opt/hostedtoolcache/Python/3.8.18/x64/lib/python3.8/site-packages (from jupyter-client>=6.1.12->ipykernel->jupyter-dash) (2.9.0.post0)\r\n"
     ]
    },
    {
     "name": "stdout",
     "output_type": "stream",
     "text": [
      "Requirement already satisfied: platformdirs>=2.5 in /opt/hostedtoolcache/Python/3.8.18/x64/lib/python3.8/site-packages (from jupyter-core!=5.0.*,>=4.12->ipykernel->jupyter-dash) (4.3.6)\r\n",
      "Requirement already satisfied: ptyprocess>=0.5 in /opt/hostedtoolcache/Python/3.8.18/x64/lib/python3.8/site-packages (from pexpect>4.3->ipython->jupyter-dash) (0.7.0)\r\n",
      "Requirement already satisfied: wcwidth in /opt/hostedtoolcache/Python/3.8.18/x64/lib/python3.8/site-packages (from prompt-toolkit!=3.0.37,<3.1.0,>=3.0.30->ipython->jupyter-dash) (0.2.13)\r\n",
      "Requirement already satisfied: executing>=1.2.0 in /opt/hostedtoolcache/Python/3.8.18/x64/lib/python3.8/site-packages (from stack-data->ipython->jupyter-dash) (2.2.0)\r\n",
      "Requirement already satisfied: asttokens>=2.1.0 in /opt/hostedtoolcache/Python/3.8.18/x64/lib/python3.8/site-packages (from stack-data->ipython->jupyter-dash) (3.0.0)\r\n",
      "Requirement already satisfied: pure-eval in /opt/hostedtoolcache/Python/3.8.18/x64/lib/python3.8/site-packages (from stack-data->ipython->jupyter-dash) (0.2.3)\r\n"
     ]
    },
    {
     "name": "stdout",
     "output_type": "stream",
     "text": [
      "Downloading dash-2.18.2-py3-none-any.whl (7.8 MB)\r\n",
      "\u001b[?25l   \u001b[90m━━━━━━━━━━━━━━━━━━━━━━━━━━━━━━━━━━━━━━━━\u001b[0m \u001b[32m0.0/7.8 MB\u001b[0m \u001b[31m?\u001b[0m eta \u001b[36m-:--:--\u001b[0m"
     ]
    },
    {
     "name": "stdout",
     "output_type": "stream",
     "text": [
      "\r",
      "\u001b[2K   \u001b[90m━━━━━━━━━━━━━━━━━━━━━━━━━━━━━━━━━━━━━━━━\u001b[0m \u001b[32m7.8/7.8 MB\u001b[0m \u001b[31m168.3 MB/s\u001b[0m eta \u001b[36m0:00:00\u001b[0m\r\n",
      "\u001b[?25hDownloading dash_core_components-2.0.0-py3-none-any.whl (3.8 kB)\r\n",
      "Downloading dash_html_components-2.0.0-py3-none-any.whl (4.1 kB)\r\n",
      "Downloading dash_table-5.0.0-py3-none-any.whl (3.9 kB)\r\n",
      "Downloading jupyter_dash-0.4.2-py3-none-any.whl (23 kB)\r\n",
      "Downloading plotly-5.24.1-py3-none-any.whl (19.1 MB)\r\n",
      "\u001b[?25l   \u001b[90m━━━━━━━━━━━━━━━━━━━━━━━━━━━━━━━━━━━━━━━━\u001b[0m \u001b[32m0.0/19.1 MB\u001b[0m \u001b[31m?\u001b[0m eta \u001b[36m-:--:--\u001b[0m"
     ]
    },
    {
     "name": "stdout",
     "output_type": "stream",
     "text": [
      "\r",
      "\u001b[2K   \u001b[90m━━━━━━━━━━━━━━━━━━━━━━━━━━━━━━━━━━━━━━━━\u001b[0m \u001b[32m19.1/19.1 MB\u001b[0m \u001b[31m184.0 MB/s\u001b[0m eta \u001b[36m0:00:00\u001b[0m\r\n",
      "\u001b[?25hDownloading flask-3.0.3-py3-none-any.whl (101 kB)\r\n"
     ]
    },
    {
     "name": "stdout",
     "output_type": "stream",
     "text": [
      "Downloading tenacity-9.0.0-py3-none-any.whl (28 kB)\r\n",
      "Downloading werkzeug-3.0.6-py3-none-any.whl (227 kB)\r\n",
      "Downloading ansi2html-1.9.2-py3-none-any.whl (17 kB)\r\n",
      "Downloading retrying-1.3.4-py3-none-any.whl (11 kB)\r\n",
      "Downloading blinker-1.8.2-py3-none-any.whl (9.5 kB)\r\n",
      "Downloading click-8.1.8-py3-none-any.whl (98 kB)\r\n",
      "Downloading itsdangerous-2.2.0-py3-none-any.whl (16 kB)\r\n"
     ]
    },
    {
     "name": "stdout",
     "output_type": "stream",
     "text": [
      "Installing collected packages: dash-table, dash-html-components, dash-core-components, Werkzeug, tenacity, retrying, itsdangerous, click, blinker, ansi2html, plotly, Flask, dash, jupyter-dash\r\n"
     ]
    },
    {
     "name": "stdout",
     "output_type": "stream",
     "text": [
      "Successfully installed Flask-3.0.3 Werkzeug-3.0.6 ansi2html-1.9.2 blinker-1.8.2 click-8.1.8 dash-2.18.2 dash-core-components-2.0.0 dash-html-components-2.0.0 dash-table-5.0.0 itsdangerous-2.2.0 jupyter-dash-0.4.2 plotly-5.24.1 retrying-1.3.4 tenacity-9.0.0\r\n"
     ]
    },
    {
     "name": "stderr",
     "output_type": "stream",
     "text": [
      "/tmp/ipykernel_1967/2850392649.py:4: UserWarning: \n",
      "The dash_core_components package is deprecated. Please replace\n",
      "`import dash_core_components as dcc` with `from dash import dcc`\n",
      "  import dash_core_components as dcc\n",
      "/tmp/ipykernel_1967/2850392649.py:5: UserWarning: \n",
      "The dash_html_components package is deprecated. Please replace\n",
      "`import dash_html_components as html` with `from dash import html`\n",
      "  import dash_html_components as html\n"
     ]
    },
    {
     "ename": "ImportError",
     "evalue": "Plotly express requires pandas to be installed.",
     "output_type": "error",
     "traceback": [
      "\u001b[0;31m---------------------------------------------------------------------------\u001b[0m",
      "\u001b[0;31mImportError\u001b[0m                               Traceback (most recent call last)",
      "Cell \u001b[0;32mIn[26], line 6\u001b[0m\n\u001b[1;32m      4\u001b[0m \u001b[38;5;28;01mimport\u001b[39;00m\u001b[38;5;250m \u001b[39m\u001b[38;5;21;01mdash_core_components\u001b[39;00m\u001b[38;5;250m \u001b[39m\u001b[38;5;28;01mas\u001b[39;00m\u001b[38;5;250m \u001b[39m\u001b[38;5;21;01mdcc\u001b[39;00m\n\u001b[1;32m      5\u001b[0m \u001b[38;5;28;01mimport\u001b[39;00m\u001b[38;5;250m \u001b[39m\u001b[38;5;21;01mdash_html_components\u001b[39;00m\u001b[38;5;250m \u001b[39m\u001b[38;5;28;01mas\u001b[39;00m\u001b[38;5;250m \u001b[39m\u001b[38;5;21;01mhtml\u001b[39;00m\n\u001b[0;32m----> 6\u001b[0m \u001b[38;5;28;01mimport\u001b[39;00m\u001b[38;5;250m \u001b[39m\u001b[38;5;21;01mplotly\u001b[39;00m\u001b[38;5;21;01m.\u001b[39;00m\u001b[38;5;21;01mexpress\u001b[39;00m\u001b[38;5;250m \u001b[39m\u001b[38;5;28;01mas\u001b[39;00m\u001b[38;5;250m \u001b[39m\u001b[38;5;21;01mpx\u001b[39;00m\n\u001b[1;32m      7\u001b[0m \u001b[38;5;28;01mfrom\u001b[39;00m\u001b[38;5;250m \u001b[39m\u001b[38;5;21;01mjupyter_dash\u001b[39;00m\u001b[38;5;250m \u001b[39m\u001b[38;5;28;01mimport\u001b[39;00m JupyterDash\n\u001b[1;32m      8\u001b[0m \u001b[38;5;28;01mimport\u001b[39;00m\u001b[38;5;250m \u001b[39m\u001b[38;5;21;01mpandas\u001b[39;00m\u001b[38;5;250m \u001b[39m\u001b[38;5;28;01mas\u001b[39;00m\u001b[38;5;250m \u001b[39m\u001b[38;5;21;01mpd\u001b[39;00m\n",
      "File \u001b[0;32m/opt/hostedtoolcache/Python/3.8.18/x64/lib/python3.8/site-packages/plotly/express/__init__.py:9\u001b[0m\n\u001b[1;32m      7\u001b[0m pd \u001b[38;5;241m=\u001b[39m optional_imports\u001b[38;5;241m.\u001b[39mget_module(\u001b[38;5;124m\"\u001b[39m\u001b[38;5;124mpandas\u001b[39m\u001b[38;5;124m\"\u001b[39m)\n\u001b[1;32m      8\u001b[0m \u001b[38;5;28;01mif\u001b[39;00m pd \u001b[38;5;129;01mis\u001b[39;00m \u001b[38;5;28;01mNone\u001b[39;00m:\n\u001b[0;32m----> 9\u001b[0m     \u001b[38;5;28;01mraise\u001b[39;00m \u001b[38;5;167;01mImportError\u001b[39;00m(\n\u001b[1;32m     10\u001b[0m \u001b[38;5;250m        \u001b[39m\u001b[38;5;124;03m\"\"\"\\\u001b[39;00m\n\u001b[1;32m     11\u001b[0m \u001b[38;5;124;03mPlotly express requires pandas to be installed.\"\"\"\u001b[39;00m\n\u001b[1;32m     12\u001b[0m     )\n\u001b[1;32m     14\u001b[0m \u001b[38;5;28;01mfrom\u001b[39;00m\u001b[38;5;250m \u001b[39m\u001b[38;5;21;01m.\u001b[39;00m\u001b[38;5;21;01m_imshow\u001b[39;00m\u001b[38;5;250m \u001b[39m\u001b[38;5;28;01mimport\u001b[39;00m imshow\n\u001b[1;32m     15\u001b[0m \u001b[38;5;28;01mfrom\u001b[39;00m\u001b[38;5;250m \u001b[39m\u001b[38;5;21;01m.\u001b[39;00m\u001b[38;5;21;01m_chart_types\u001b[39;00m\u001b[38;5;250m \u001b[39m\u001b[38;5;28;01mimport\u001b[39;00m (  \u001b[38;5;66;03m# noqa: F401\u001b[39;00m\n\u001b[1;32m     16\u001b[0m     scatter,\n\u001b[1;32m     17\u001b[0m     scatter_3d,\n\u001b[0;32m   (...)\u001b[0m\n\u001b[1;32m     54\u001b[0m     density_mapbox,\n\u001b[1;32m     55\u001b[0m )\n",
      "\u001b[0;31mImportError\u001b[0m: Plotly express requires pandas to be installed."
     ]
    }
   ],
   "source": [
    "\n",
    "!pip install dash jupyter-dash plotly\n",
    "\n",
    "import dash\n",
    "import dash_core_components as dcc\n",
    "import dash_html_components as html\n",
    "import plotly.express as px\n",
    "from jupyter_dash import JupyterDash\n",
    "import pandas as pd"
   ]
  },
  {
   "cell_type": "code",
   "execution_count": 27,
   "metadata": {
    "colab": {
     "base_uri": "https://localhost:8080/",
     "height": 1000
    },
    "collapsed": true,
    "execution": {
     "iopub.execute_input": "2025-01-24T00:31:22.157700Z",
     "iopub.status.busy": "2025-01-24T00:31:22.157202Z",
     "iopub.status.idle": "2025-01-24T00:31:22.175433Z",
     "shell.execute_reply": "2025-01-24T00:31:22.174765Z"
    },
    "id": "tCUUH-wqVfgf",
    "outputId": "fb67ba26-0194-421c-e97c-ca8b1b9e3aeb"
   },
   "outputs": [
    {
     "ename": "NameError",
     "evalue": "name 'df' is not defined",
     "output_type": "error",
     "traceback": [
      "\u001b[0;31m---------------------------------------------------------------------------\u001b[0m",
      "\u001b[0;31mNameError\u001b[0m                                 Traceback (most recent call last)",
      "Cell \u001b[0;32mIn[27], line 2\u001b[0m\n\u001b[1;32m      1\u001b[0m \u001b[38;5;66;03m# Sample data for df5\u001b[39;00m\n\u001b[0;32m----> 2\u001b[0m df5 \u001b[38;5;241m=\u001b[39m \u001b[43mdf\u001b[49m\u001b[38;5;241m.\u001b[39mcopy()\n\u001b[1;32m      4\u001b[0m \u001b[38;5;66;03m# Data preparation: Aggregate by category and other metrics\u001b[39;00m\n\u001b[1;32m      5\u001b[0m category_summary \u001b[38;5;241m=\u001b[39m df5\u001b[38;5;241m.\u001b[39mgroupby(\u001b[38;5;124m'\u001b[39m\u001b[38;5;124manonymized category\u001b[39m\u001b[38;5;124m'\u001b[39m)\u001b[38;5;241m.\u001b[39magg(\n\u001b[1;32m      6\u001b[0m     total_quantity\u001b[38;5;241m=\u001b[39m(\u001b[38;5;124m'\u001b[39m\u001b[38;5;124mquantity\u001b[39m\u001b[38;5;124m'\u001b[39m, \u001b[38;5;124m'\u001b[39m\u001b[38;5;124msum\u001b[39m\u001b[38;5;124m'\u001b[39m),\n\u001b[1;32m      7\u001b[0m     total_value\u001b[38;5;241m=\u001b[39m(\u001b[38;5;124m'\u001b[39m\u001b[38;5;124mtotal_value\u001b[39m\u001b[38;5;124m'\u001b[39m, \u001b[38;5;124m'\u001b[39m\u001b[38;5;124msum\u001b[39m\u001b[38;5;124m'\u001b[39m)\n\u001b[1;32m      8\u001b[0m )\u001b[38;5;241m.\u001b[39mreset_index()\n",
      "\u001b[0;31mNameError\u001b[0m: name 'df' is not defined"
     ]
    }
   ],
   "source": [
    "# Sample data for df5\n",
    "df5 = df.copy()\n",
    "\n",
    "# Data preparation: Aggregate by category and other metrics\n",
    "category_summary = df5.groupby('anonymized category').agg(\n",
    "    total_quantity=('quantity', 'sum'),\n",
    "    total_value=('total_value', 'sum')\n",
    ").reset_index()\n",
    "\n",
    "# Create the Dash app\n",
    "app = JupyterDash(__name__)\n",
    "\n",
    "# Define the layout\n",
    "app.layout = html.Div([\n",
    "    html.H1(\"Business Insights Dashboard\"),\n",
    "\n",
    "    # Total Quantity and Value by Category\n",
    "    html.Div([\n",
    "        html.H3(\"Total Quantity and Value by Anonymized Category\"),\n",
    "        dcc.Graph(\n",
    "            id='category-summary',\n",
    "            figure=px.bar(category_summary, x='anonymized category', y=['total_quantity', 'total_value'],\n",
    "                          title=\"Total Quantity and Value by Category\")\n",
    "        )\n",
    "    ]),\n",
    "])\n",
    "\n",
    "# Run the app in Colab\n",
    "app.run_server(mode=\"inline\")"
   ]
  },
  {
   "cell_type": "markdown",
   "metadata": {
    "id": "6AVyXY8oWIMg"
   },
   "source": [
    "# PUSHING BOUNDARIES\n",
    "\n",
    "1. Store data in bigquery- for faster processing,  connect looker studio or PoweBI for viz\n",
    "2. CI/CD , github actions to orchestrate the notebook- ensures 'fail proof'\n",
    "3. Infrastructure management using Terraform."
   ]
  },
  {
   "cell_type": "code",
   "execution_count": null,
   "metadata": {
    "id": "zbfEIASxYK27"
   },
   "outputs": [],
   "source": []
  }
 ],
 "metadata": {
  "colab": {
   "authorship_tag": "ABX9TyOUAsAZbT8bEOvZ5hsWzR6S",
   "include_colab_link": true,
   "provenance": []
  },
  "kernelspec": {
   "display_name": "Python 3",
   "name": "python3"
  },
  "language_info": {
   "codemirror_mode": {
    "name": "ipython",
    "version": 3
   },
   "file_extension": ".py",
   "mimetype": "text/x-python",
   "name": "python",
   "nbconvert_exporter": "python",
   "pygments_lexer": "ipython3",
   "version": "3.8.18"
  }
 },
 "nbformat": 4,
 "nbformat_minor": 0
}
